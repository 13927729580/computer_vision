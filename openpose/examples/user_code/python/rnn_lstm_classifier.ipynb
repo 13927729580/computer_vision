{
 "cells": [
  {
   "cell_type": "markdown",
   "metadata": {},
   "source": [
    "# RNN LSTM MultiClass Classifier for Openpose (pose,hand,face) Keypoints"
   ]
  },
  {
   "cell_type": "markdown",
   "metadata": {},
   "source": [
    "- Author: Srini Ananthakrishnan\n",
    "- Date  : 09/08/2017"
   ]
  },
  {
   "cell_type": "markdown",
   "metadata": {},
   "source": [
    "### Import packages"
   ]
  },
  {
   "cell_type": "code",
   "execution_count": 1,
   "metadata": {},
   "outputs": [
    {
     "name": "stderr",
     "output_type": "stream",
     "text": [
      "Using TensorFlow backend.\n"
     ]
    }
   ],
   "source": [
    "import IPython\n",
    "import pandas as pd\n",
    "import keras\n",
    "import itertools\n",
    "import numpy as np\n",
    "import matplotlib.pyplot as plt\n",
    "%matplotlib inline"
   ]
  },
  {
   "cell_type": "code",
   "execution_count": 2,
   "metadata": {
    "collapsed": true
   },
   "outputs": [],
   "source": [
    "from keras.models import Sequential\n",
    "from keras.layers import Dense, Flatten, Dropout, TimeDistributed, Activation\n",
    "from keras.layers import LSTM\n",
    "from sklearn.cross_validation import train_test_split\n",
    "from sklearn.metrics import confusion_matrix\n",
    "from kerasify import export_model\n",
    "from keras.models import model_from_json\n",
    "import os"
   ]
  },
  {
   "cell_type": "markdown",
   "metadata": {},
   "source": [
    "### Model Parameters and Paths\n",
    "\n",
    "### NOTE: Uncomment below cell to generate one of the classifier model (hand or pose or face)"
   ]
  },
  {
   "cell_type": "code",
   "execution_count": 3,
   "metadata": {
    "collapsed": true
   },
   "outputs": [],
   "source": [
    "timesteps = 5\n",
    "\n",
    "## POSE - val_acc: 98%\n",
    "epochs = 1000\n",
    "batch_size = 32\n",
    "_dropout = 0.1\n",
    "_activation='relu'\n",
    "_optimizer='Adam'\n",
    "class_names = [\"close_to_camera\",\"standing\",\"sitting\"]\n",
    "X_vector_dim = 36 # number of features or columns (pose)\n",
    "samples_path = \"../../../train_data/pose/pose_samples_raw.txt\"\n",
    "labels_path = \"../../../train_data/pose/pose_labels_raw.txt\"\n",
    "model_path = '../../../train_data/pose/pose.model'\n",
    "json_model_path = '../../../train_data/pose/pose_model.json'\n",
    "model_weights_path = \"../../../train_data/pose/pose_model.h5\"\n",
    "\n",
    "# ## HAND - val_acc: 97%\n",
    "# epochs = 1000\n",
    "# batch_size = 32\n",
    "# _dropout = 0.1\n",
    "# _activation='relu'\n",
    "# _optimizer='adam'\n",
    "# class_names = [\"fist\",\"pinch\",\"wave\",\"victory\",\"stop\",\"thumbsup\"]\n",
    "# X_vector_dim = 40 # number of features or columns (hand)\n",
    "# samples_path = \"../../../train_data/hand/hand_samples_raw.txt\"\n",
    "# labels_path = \"../../../train_data/hand/hand_labels_raw.txt\"\n",
    "# model_path = '../../../train_data/hand/hand.model'\n",
    "# json_model_path = '../../../train_data/hand/hand_model.json'\n",
    "# model_weights_path = \"../../../train_data/hand/hand_model.h5\"\n",
    "\n",
    "# # ## FACE - val_acc: 96%\n",
    "# epochs = 1000\n",
    "# batch_size = 32\n",
    "# _dropout = 0.1\n",
    "# _activation='tanh'\n",
    "# _optimizer='Adadelta'\n",
    "# class_names = [\"normal\",\"happy\",\"sad\",\"surprise\"]\n",
    "# X_vector_dim = 96 # number of features or columns (face)\n",
    "# samples_path = \"../../../train_data/face/face_samples_raw.txt\"\n",
    "# labels_path = \"../../../train_data/face/face_labels_raw.txt\"\n",
    "# model_path = '../../../train_data/face/face.model'\n",
    "# json_model_path = '../../../train_data/face/face_model.json'\n",
    "# model_weights_path = \"../../../train_data/face/face_model.h5\""
   ]
  },
  {
   "cell_type": "markdown",
   "metadata": {},
   "source": [
    "### Load Keypoints Samples and Labels"
   ]
  },
  {
   "cell_type": "code",
   "execution_count": 4,
   "metadata": {
    "collapsed": true
   },
   "outputs": [],
   "source": [
    "X = np.loadtxt(samples_path, dtype=\"float\")"
   ]
  },
  {
   "cell_type": "code",
   "execution_count": 5,
   "metadata": {
    "collapsed": true
   },
   "outputs": [],
   "source": [
    "y = np.loadtxt(labels_path)"
   ]
  },
  {
   "cell_type": "code",
   "execution_count": 6,
   "metadata": {},
   "outputs": [
    {
     "data": {
      "text/plain": [
       "((311, 180), (311,))"
      ]
     },
     "execution_count": 6,
     "metadata": {},
     "output_type": "execute_result"
    }
   ],
   "source": [
    "X.shape, y.shape"
   ]
  },
  {
   "cell_type": "code",
   "execution_count": 7,
   "metadata": {
    "collapsed": true
   },
   "outputs": [],
   "source": [
    "def samples_to_3D_array(_vector_dim, _vectors_per_sample, _X):\n",
    "    X_len = len(_X)\n",
    "    result_array = []\n",
    "    for sample in range (0,X_len):\n",
    "        sample_array = []\n",
    "        for vector_idx in range (0, _vectors_per_sample):\n",
    "            start = vector_idx * _vector_dim\n",
    "            end = start + _vector_dim\n",
    "            sample_array.append(_X[sample][start:end])\n",
    "        result_array.append(sample_array) \n",
    "\n",
    "    return np.asarray(result_array)"
   ]
  },
  {
   "cell_type": "markdown",
   "metadata": {},
   "source": [
    "#### Keras LSTM model require 3-Dimensional Tensors. Let's convert samples to 3D tensors !!"
   ]
  },
  {
   "cell_type": "code",
   "execution_count": 8,
   "metadata": {
    "collapsed": true
   },
   "outputs": [],
   "source": [
    "X_vectors_per_sample = timesteps # number of vectors per sample\n",
    "X_3D = samples_to_3D_array(X_vector_dim, X_vectors_per_sample, X)"
   ]
  },
  {
   "cell_type": "code",
   "execution_count": 9,
   "metadata": {},
   "outputs": [
    {
     "data": {
      "text/plain": [
       "(311, 5, 36)"
      ]
     },
     "execution_count": 9,
     "metadata": {},
     "output_type": "execute_result"
    }
   ],
   "source": [
    "X_3D.shape"
   ]
  },
  {
   "cell_type": "markdown",
   "metadata": {},
   "source": [
    "#### Converst y integer labels (0,1,2..) to one_hot_encoding vectors "
   ]
  },
  {
   "cell_type": "code",
   "execution_count": 10,
   "metadata": {
    "collapsed": true
   },
   "outputs": [],
   "source": [
    "def convert_y_to_one_hot(_y):\n",
    "    _y = np.asarray(_y,dtype=int)\n",
    "    b = np.zeros((_y.size, _y.max()+1))\n",
    "    b[np.arange(_y.size),_y] = 1\n",
    "    return b"
   ]
  },
  {
   "cell_type": "code",
   "execution_count": 12,
   "metadata": {},
   "outputs": [
    {
     "data": {
      "text/plain": [
       "(311, 4)"
      ]
     },
     "execution_count": 12,
     "metadata": {},
     "output_type": "execute_result"
    }
   ],
   "source": [
    "y_one_hot = convert_y_to_one_hot(y)\n",
    "y_one_hot.shape"
   ]
  },
  {
   "cell_type": "code",
   "execution_count": 14,
   "metadata": {
    "collapsed": true
   },
   "outputs": [],
   "source": [
    "y_vector_dim = y_one_hot.shape[1] # number of features or columns"
   ]
  },
  {
   "cell_type": "markdown",
   "metadata": {},
   "source": [
    "### Test-Train Split"
   ]
  },
  {
   "cell_type": "code",
   "execution_count": 15,
   "metadata": {
    "collapsed": true
   },
   "outputs": [],
   "source": [
    "X_train, X_test, y_train, y_test = train_test_split(X_3D, y_one_hot, test_size=0.33, random_state=42)"
   ]
  },
  {
   "cell_type": "code",
   "execution_count": 16,
   "metadata": {},
   "outputs": [
    {
     "data": {
      "text/plain": [
       "((208, 5, 36), (103, 5, 36), (208, 4), (103, 4))"
      ]
     },
     "execution_count": 16,
     "metadata": {},
     "output_type": "execute_result"
    }
   ],
   "source": [
    "X_train.shape, X_test.shape, y_train.shape, y_test.shape"
   ]
  },
  {
   "cell_type": "code",
   "execution_count": 17,
   "metadata": {},
   "outputs": [
    {
     "data": {
      "text/plain": [
       "(5, 36)"
      ]
     },
     "execution_count": 17,
     "metadata": {},
     "output_type": "execute_result"
    }
   ],
   "source": [
    "input_shape = (X_train.shape[1], X_train.shape[2])\n",
    "input_shape"
   ]
  },
  {
   "cell_type": "markdown",
   "metadata": {},
   "source": [
    "### Build Keras TimeDistributed(Dense) (many-to-many case) LSTM model"
   ]
  },
  {
   "cell_type": "code",
   "execution_count": 18,
   "metadata": {},
   "outputs": [
    {
     "name": "stdout",
     "output_type": "stream",
     "text": [
      "Model Parameters:\n",
      "input_shape     :  (5, 36)\n",
      "X_vector_dim    :  36\n",
      "y_vector_dim    :  4\n"
     ]
    }
   ],
   "source": [
    "print \"Model Parameters:\"\n",
    "print \"input_shape     : \", input_shape\n",
    "print \"X_vector_dim    : \", X_vector_dim\n",
    "print \"y_vector_dim    : \", y_vector_dim"
   ]
  },
  {
   "cell_type": "code",
   "execution_count": 19,
   "metadata": {
    "scrolled": false
   },
   "outputs": [
    {
     "name": "stdout",
     "output_type": "stream",
     "text": [
      "Build Keras Timedistributed-LSTM Model...\n",
      "_________________________________________________________________\n",
      "Layer (type)                 Output Shape              Param #   \n",
      "=================================================================\n",
      "time_distributed_1 (TimeDist (None, 5, 36)             1332      \n",
      "_________________________________________________________________\n",
      "dropout_1 (Dropout)          (None, 5, 36)             0         \n",
      "_________________________________________________________________\n",
      "time_distributed_2 (TimeDist (None, 5, 72)             2664      \n",
      "_________________________________________________________________\n",
      "dropout_2 (Dropout)          (None, 5, 72)             0         \n",
      "_________________________________________________________________\n",
      "time_distributed_3 (TimeDist (None, 5, 36)             2628      \n",
      "_________________________________________________________________\n",
      "dropout_3 (Dropout)          (None, 5, 36)             0         \n",
      "_________________________________________________________________\n",
      "time_distributed_4 (TimeDist (None, 5, 18)             666       \n",
      "_________________________________________________________________\n",
      "dropout_4 (Dropout)          (None, 5, 18)             0         \n",
      "_________________________________________________________________\n",
      "time_distributed_5 (TimeDist (None, 5, 9)              171       \n",
      "_________________________________________________________________\n",
      "dropout_5 (Dropout)          (None, 5, 9)              0         \n",
      "_________________________________________________________________\n",
      "lstm_1 (LSTM)                (None, 9)                 684       \n",
      "_________________________________________________________________\n",
      "dense_6 (Dense)              (None, 4)                 40        \n",
      "=================================================================\n",
      "Total params: 8,185\n",
      "Trainable params: 8,185\n",
      "Non-trainable params: 0\n",
      "_________________________________________________________________\n"
     ]
    }
   ],
   "source": [
    "print (\"Build Keras Timedistributed-LSTM Model...\")\n",
    "model = Sequential()\n",
    "model.add(TimeDistributed(Dense(X_vector_dim, activation=_activation), input_shape=input_shape))\n",
    "model.add(Dropout(_dropout))\n",
    "model.add(TimeDistributed(Dense(X_vector_dim*2, activation=_activation))) #(5, 80)\n",
    "model.add(Dropout(_dropout))\n",
    "model.add(TimeDistributed(Dense(X_vector_dim, activation=_activation))) #(5, 40)\n",
    "model.add(Dropout(_dropout))\n",
    "model.add(TimeDistributed(Dense(X_vector_dim/2, activation=_activation))) #(5, 20)\n",
    "model.add(Dropout(_dropout))\n",
    "model.add(TimeDistributed(Dense(X_vector_dim/4, activation=_activation))) #(5, 10)\n",
    "model.add(Dropout(_dropout))\n",
    "model.add(LSTM(X_vector_dim/4, dropout=_dropout, recurrent_dropout=_dropout))\n",
    "model.add(Dense(y_vector_dim,activation='softmax'))\n",
    "model.compile(loss='categorical_crossentropy', optimizer=_optimizer, metrics=['accuracy'])\n",
    "model.summary()\n",
    "\n",
    "# Test-2: 95% val-acc\n",
    "# model = Sequential()\n",
    "# model.add(TimeDistributed(Dense(X_vector_dim, activation='relu'), input_shape=input_shape))\n",
    "# model.add(Dropout(_dropout))\n",
    "# model.add(TimeDistributed(Dense(X_vector_dim*2, activation='relu'))) #(5, 80)\n",
    "# model.add(Dropout(_dropout))\n",
    "# model.add(TimeDistributed(Dense(X_vector_dim, activation='relu'))) #(5, 40)\n",
    "# model.add(Dropout(_dropout))\n",
    "# model.add(TimeDistributed(Dense(X_vector_dim/2, activation='relu'))) #(5, 20)\n",
    "# model.add(Dropout(_dropout))\n",
    "# model.add(TimeDistributed(Dense(X_vector_dim/4, activation='relu'))) #(5, 10)\n",
    "# model.add(Dropout(_dropout))\n",
    "# model.add(LSTM(X_vector_dim/4, dropout=_dropout, recurrent_dropout=_dropout))\n",
    "# model.add(Dense(y_vector_dim,activation='softplus'))\n",
    "# model.compile(loss='mean_squared_error', optimizer='adam', metrics=['accuracy'])\n",
    "# model.summary()\n",
    "\n",
    "# Test-1: 94% val-acc\n",
    "# model = Sequential()\n",
    "# model.add(TimeDistributed(Dense(X_vector_dim, activation='relu'), input_shape=input_shape))\n",
    "# model.add(Dropout(_dropout))\n",
    "# model.add(TimeDistributed(Dense(X_vector_dim*2, activation='relu'))) #(5, 80)\n",
    "# model.add(Dropout(_dropout))\n",
    "# model.add(TimeDistributed(Dense(X_vector_dim, activation='relu'))) #(5, 40)\n",
    "# model.add(Dropout(_dropout))\n",
    "# model.add(TimeDistributed(Dense(X_vector_dim/2, activation='relu'))) #(5, 20)\n",
    "# model.add(Dropout(_dropout))\n",
    "# model.add(LSTM(X_vector_dim/2, dropout=_dropout, recurrent_dropout=_dropout))\n",
    "# model.add(Dense(y_vector_dim,activation='softplus'))\n",
    "# model.compile(loss='mean_squared_error', optimizer='adam', metrics=['accuracy'])\n",
    "# model.summary()"
   ]
  },
  {
   "cell_type": "code",
   "execution_count": 20,
   "metadata": {
    "collapsed": true
   },
   "outputs": [],
   "source": [
    "# Callback class to visialize training progress\n",
    "class TrainingVisualizer(keras.callbacks.History):\n",
    "    def on_epoch_end(self, epoch, logs={}):\n",
    "        super(TrainingVisualizer, self).on_epoch_end(epoch, logs)\n",
    "        IPython.display.clear_output(wait=True)\n",
    "        axes = pd.DataFrame(self.history).plot()\n",
    "        axes.axvline(x=max((val_acc, i) for i, val_acc in enumerate(self.history['val_acc']))[1])\n",
    "        plt.show()"
   ]
  },
  {
   "cell_type": "markdown",
   "metadata": {},
   "source": [
    "### Train Model"
   ]
  },
  {
   "cell_type": "code",
   "execution_count": 21,
   "metadata": {},
   "outputs": [
    {
     "data": {
      "text/plain": [
       "((208, 5, 36), (208, 4), (103, 5, 36), (103, 4))"
      ]
     },
     "execution_count": 21,
     "metadata": {},
     "output_type": "execute_result"
    }
   ],
   "source": [
    "X_train.shape, y_train.shape, X_test.shape, y_test.shape"
   ]
  },
  {
   "cell_type": "code",
   "execution_count": 22,
   "metadata": {
    "scrolled": false
   },
   "outputs": [
    {
     "data": {
      "image/png": "[encoded data removed]",
      "text/plain": [
       "<matplotlib.figure.Figure at 0x7fa1a41bd550>"
      ]
     },
     "metadata": {},
     "output_type": "display_data"
    },
    {
     "name": "stdout",
     "output_type": "stream",
     "text": [
      "208/208 [==============================] - 0s - loss: 9.1659e-04 - acc: 1.0000 - val_loss: 0.0695 - val_acc: 0.9806\n"
     ]
    },
    {
     "data": {
      "text/plain": [
       "<keras.callbacks.History at 0x7fa1f035ba90>"
      ]
     },
     "execution_count": 22,
     "metadata": {},
     "output_type": "execute_result"
    }
   ],
   "source": [
    "print('Training...')\n",
    "model.fit(X_train, y_train,\n",
    "          batch_size=batch_size,\n",
    "          epochs=epochs,\n",
    "          validation_data=(X_test, y_test),\n",
    "          callbacks=[TrainingVisualizer()])"
   ]
  },
  {
   "cell_type": "markdown",
   "metadata": {},
   "source": [
    "### Evaluate Model and Predict Classes"
   ]
  },
  {
   "cell_type": "code",
   "execution_count": 23,
   "metadata": {},
   "outputs": [
    {
     "name": "stdout",
     "output_type": "stream",
     "text": [
      "Testing...\n",
      "\r",
      " 32/103 [========>.....................] - ETA: 0s"
     ]
    }
   ],
   "source": [
    "print('Testing...')\n",
    "score, accuracy = model.evaluate(X_test, y_test,\n",
    "                                 batch_size=batch_size)"
   ]
  },
  {
   "cell_type": "code",
   "execution_count": 24,
   "metadata": {},
   "outputs": [
    {
     "name": "stdout",
     "output_type": "stream",
     "text": [
      "Test score: 0.0695\n",
      "Test accuracy: 0.981\n"
     ]
    }
   ],
   "source": [
    "print('Test score: {:.3}'.format(score))\n",
    "print('Test accuracy: {:.3}'.format(accuracy))"
   ]
  },
  {
   "cell_type": "code",
   "execution_count": 25,
   "metadata": {},
   "outputs": [
    {
     "data": {
      "text/plain": [
       "((103, 5, 36), (103, 4))"
      ]
     },
     "execution_count": 25,
     "metadata": {},
     "output_type": "execute_result"
    }
   ],
   "source": [
    "X_test.shape, y_test.shape"
   ]
  },
  {
   "cell_type": "code",
   "execution_count": 26,
   "metadata": {
    "scrolled": false
   },
   "outputs": [
    {
     "data": {
      "text/plain": [
       "(103, 4)"
      ]
     },
     "execution_count": 26,
     "metadata": {},
     "output_type": "execute_result"
    }
   ],
   "source": [
    "y_pred = model.predict(X_test)\n",
    "y_pred.shape"
   ]
  },
  {
   "cell_type": "markdown",
   "metadata": {},
   "source": [
    "### Confusion Matrix"
   ]
  },
  {
   "cell_type": "code",
   "execution_count": 27,
   "metadata": {
    "collapsed": true
   },
   "outputs": [],
   "source": [
    "def plot_confusion_matrix(cm, classes,\n",
    "                          normalize=False,\n",
    "                          title='Confusion matrix',\n",
    "                          cmap=plt.cm.Blues):\n",
    "    \"\"\"\n",
    "    This function prints and plots the confusion matrix.\n",
    "    Normalization can be applied by setting `normalize=True`.\n",
    "    \"\"\"\n",
    "    if normalize:\n",
    "        cm = cm.astype('float') / cm.sum(axis=1)[:, np.newaxis]\n",
    "        print(\"Normalized confusion matrix\")\n",
    "    else:\n",
    "        print('Confusion matrix, without normalization')\n",
    "\n",
    "    print(cm)\n",
    "\n",
    "    plt.imshow(cm, interpolation='nearest', cmap=cmap)\n",
    "    plt.title(title)\n",
    "    plt.colorbar()\n",
    "    tick_marks = np.arange(len(classes))\n",
    "    plt.xticks(tick_marks, classes, rotation=45)\n",
    "    plt.yticks(tick_marks, classes)\n",
    "\n",
    "    fmt = '.2f' if normalize else 'd'\n",
    "    thresh = cm.max() / 2.\n",
    "    for i, j in itertools.product(range(cm.shape[0]), range(cm.shape[1])):\n",
    "        plt.text(j, i, format(cm[i, j], fmt),\n",
    "                 horizontalalignment=\"center\",\n",
    "                 color=\"white\" if cm[i, j] > thresh else \"black\")\n",
    "\n",
    "    plt.tight_layout()\n",
    "    plt.ylabel('True label')\n",
    "    plt.xlabel('Predicted label')"
   ]
  },
  {
   "cell_type": "code",
   "execution_count": 28,
   "metadata": {},
   "outputs": [
    {
     "data": {
      "text/plain": [
       "array([[ 0.,  0.,  0.,  1.],\n",
       "       [ 0.,  1.,  0.,  0.],\n",
       "       [ 0.,  1.,  0.,  0.],\n",
       "       [ 0.,  1.,  0.,  0.],\n",
       "       [ 0.,  1.,  0.,  0.],\n",
       "       [ 0.,  1.,  0.,  0.],\n",
       "       [ 0.,  1.,  0.,  0.],\n",
       "       [ 0.,  0.,  1.,  0.],\n",
       "       [ 0.,  0.,  0.,  1.],\n",
       "       [ 0.,  1.,  0.,  0.]])"
      ]
     },
     "execution_count": 28,
     "metadata": {},
     "output_type": "execute_result"
    }
   ],
   "source": [
    "y_test[:10]"
   ]
  },
  {
   "cell_type": "code",
   "execution_count": 29,
   "metadata": {},
   "outputs": [
    {
     "data": {
      "text/plain": [
       "array([3, 1, 1, 1, 1, 1, 1, 2, 3, 1, 1, 2, 3, 3, 3, 3, 1, 2, 2, 2, 1, 2, 2,\n",
       "       3, 1, 2, 2, 1, 3, 3, 2, 1, 1, 3, 1, 2, 1, 1, 2, 2, 1, 1, 2, 3, 3, 2,\n",
       "       3, 1, 3, 1, 2, 3, 2, 1, 2, 3, 3, 2, 2, 3, 3, 2, 2, 2, 3, 3, 2, 1, 2,\n",
       "       1, 2, 1, 2, 1, 1, 3, 1, 2, 2, 3, 3, 3, 2, 2, 1, 3, 1, 2, 2, 3, 1, 2,\n",
       "       1, 3, 3, 1, 1, 1, 3, 3, 1, 1, 3])"
      ]
     },
     "execution_count": 29,
     "metadata": {},
     "output_type": "execute_result"
    }
   ],
   "source": [
    "np.argmax(y_test, axis=1)"
   ]
  },
  {
   "cell_type": "code",
   "execution_count": 30,
   "metadata": {},
   "outputs": [
    {
     "data": {
      "text/plain": [
       "array([3, 1, 1, 1, 1, 1, 1, 2, 3, 1, 1, 2, 3, 3, 3, 3, 1, 2, 2, 2, 1, 2, 2,\n",
       "       3, 1, 2, 2, 1, 3, 3, 2, 1, 1, 3, 1, 2, 1, 1, 2, 2, 1, 1, 2, 3, 3, 2,\n",
       "       3, 1, 3, 1, 2, 3, 2, 1, 2, 3, 3, 2, 2, 3, 3, 2, 2, 2, 3, 3, 2, 1, 2,\n",
       "       1, 2, 1, 2, 1, 1, 3, 1, 2, 2, 3, 3, 1, 2, 2, 1, 3, 1, 2, 2, 2, 1, 2,\n",
       "       1, 3, 3, 1, 1, 1, 3, 3, 1, 1, 3])"
      ]
     },
     "execution_count": 30,
     "metadata": {},
     "output_type": "execute_result"
    }
   ],
   "source": [
    "np.argmax(y_pred, axis=1)"
   ]
  },
  {
   "cell_type": "code",
   "execution_count": 31,
   "metadata": {},
   "outputs": [
    {
     "name": "stdout",
     "output_type": "stream",
     "text": [
      "Confusion matrix, without normalization\n",
      "[[37  0  0]\n",
      " [ 0 34  0]\n",
      " [ 1  1 30]]\n"
     ]
    },
    {
     "data": {
      "image/png": "[encoded data removed]",
      "text/plain": [
       "<matplotlib.figure.Figure at 0x7fa1f09a1850>"
      ]
     },
     "metadata": {},
     "output_type": "display_data"
    }
   ],
   "source": [
    "# Compute confusion matrix\n",
    "cnf_matrix = confusion_matrix(np.argmax(y_test, axis=1), np.argmax(y_pred, axis=1))\n",
    "\n",
    "np.set_printoptions(precision=2)\n",
    "\n",
    "# Plot non-normalized confusion matrix\n",
    "plt.figure()\n",
    "plot_confusion_matrix(cnf_matrix, classes=class_names,\n",
    "                      title='Confusion matrix, without normalization')\n",
    "\n",
    "plt.show()"
   ]
  },
  {
   "cell_type": "markdown",
   "metadata": {},
   "source": [
    "### Export model"
   ]
  },
  {
   "cell_type": "code",
   "execution_count": 32,
   "metadata": {
    "scrolled": true
   },
   "outputs": [
    {
     "name": "stdout",
     "output_type": "stream",
     "text": [
      "TimeDistributed\n",
      "Activation:  relu\n",
      "TimeDistributed\n",
      "Activation:  relu\n",
      "TimeDistributed\n",
      "Activation:  relu\n",
      "TimeDistributed\n",
      "Activation:  relu\n",
      "TimeDistributed\n",
      "Activation:  relu\n",
      "Input Dim: 9\n",
      "Model saved to disk\n"
     ]
    }
   ],
   "source": [
    "export_model(model,model_path)\n",
    "print(\"Model saved to disk\")"
   ]
  },
  {
   "cell_type": "markdown",
   "metadata": {},
   "source": [
    "### serialize model to JSON"
   ]
  },
  {
   "cell_type": "code",
   "execution_count": 33,
   "metadata": {},
   "outputs": [
    {
     "name": "stdout",
     "output_type": "stream",
     "text": [
      "Saved model to disk\n"
     ]
    }
   ],
   "source": [
    "# # serialize model to JSON\n",
    "model_json = model.to_json()\n",
    "with open(json_model_path, \"w\") as json_file:\n",
    "    json_file.write(json_model_path)\n",
    "# serialize weights to HDF5\n",
    "model.save_weights(model_weights_path)\n",
    "print(\"Saved model to disk\")"
   ]
  },
  {
   "cell_type": "markdown",
   "metadata": {},
   "source": [
    "### Sample Test\n",
    "\n",
    "#### ( eg: Each hand sample is a frame sequence (t0, t1, t2, t3, t4) of 5 vectors each 40 feature dimensions)"
   ]
  },
  {
   "cell_type": "code",
   "execution_count": 34,
   "metadata": {},
   "outputs": [
    {
     "name": "stdout",
     "output_type": "stream",
     "text": [
      "test_sample shape: (5, 36)\n"
     ]
    },
    {
     "data": {
      "text/plain": [
       "(1, 4)"
      ]
     },
     "execution_count": 34,
     "metadata": {},
     "output_type": "execute_result"
    }
   ],
   "source": [
    "test_sample = X_test[20]\n",
    "print \"test_sample shape:\",test_sample.shape\n",
    "test_sample_y_hat = model.predict(test_sample.reshape(1, test_sample.shape[0],test_sample.shape[1]))\n",
    "test_sample_y_hat.shape"
   ]
  },
  {
   "cell_type": "code",
   "execution_count": 35,
   "metadata": {},
   "outputs": [
    {
     "data": {
      "text/plain": [
       "array([  5.23e-05,   1.00e+00,   2.33e-06,   2.28e-05], dtype=float32)"
      ]
     },
     "execution_count": 35,
     "metadata": {},
     "output_type": "execute_result"
    }
   ],
   "source": [
    "test_sample_y_hat[0]"
   ]
  },
  {
   "cell_type": "code",
   "execution_count": 36,
   "metadata": {},
   "outputs": [
    {
     "name": "stdout",
     "output_type": "stream",
     "text": [
      "Predicted hand label: 1\n",
      "Actual hand label   : 1\n"
     ]
    }
   ],
   "source": [
    "print \"Predicted hand label:\", np.argmax(test_sample_y_hat, axis=1)[0]\n",
    "print \"Actual hand label   :\", np.argmax(y_test[20])"
   ]
  },
  {
   "cell_type": "code",
   "execution_count": null,
   "metadata": {
    "collapsed": true
   },
   "outputs": [],
   "source": []
  },
  {
   "cell_type": "markdown",
   "metadata": {},
   "source": [
    "## Appendix (Debugging Test Frame)"
   ]
  },
  {
   "cell_type": "code",
   "execution_count": 37,
   "metadata": {
    "collapsed": true
   },
   "outputs": [],
   "source": [
    "# _x = \"27.3453 0 57.7684 0 0 0 0 0 66.4199 0 89.4026 0 108.107 0 124.934 0 64.7402 0 93.3391 0 115.678 0 136.163 0 63.3009 0 74.4868 0 65.1739 0 0 0 63.1903 0 71.2364 0 61.7355 0 51.5892 0 26.7669 0 56.1333 0 0 0 0 0 63.0563 0 87.9288 0 107.327 0 124.338 0 63.0463 0 93.1842 0 115.99 0 135.202 0 59.6076 0 73.6994 0 71.0425 0 0 0 55.7072 0 74.0841 0 69.9724 0 58.7814 0 27.5654 0 57.1017 0 0 0 0 0 65.1915 0 77.0844 0 94.9881 0 112.067 0 62.1621 0 71.6954 0 88.1963 0 103.701 0 60.9382 0 0 0 0 0 0 0 56.9681 0 0 0 0 0 0 0 0 0 0 0 0 0 0 0 58.322 0 84.251 0 104.265 0 121.332 0 59.3682 0 89.1917 0 111.542 0 131.714 0 57.8266 0 0 0 0 0 0 0 0 0 0 0 0 0 0 0 0 0 0 0 64.2498 0 80.8496 0 0 0 0 0 0 0 0 0 0 0 0 0 0 0 0 0 0 0 0 0 0 0 0 0 0 0 0 0 0 0 0 0\""
   ]
  },
  {
   "cell_type": "code",
   "execution_count": 38,
   "metadata": {
    "collapsed": true
   },
   "outputs": [],
   "source": [
    "# vector = np.array([float(_) for _ in _x.split(\" \")])"
   ]
  },
  {
   "cell_type": "code",
   "execution_count": 39,
   "metadata": {
    "collapsed": true
   },
   "outputs": [],
   "source": [
    "# vector"
   ]
  },
  {
   "cell_type": "code",
   "execution_count": 40,
   "metadata": {
    "collapsed": true
   },
   "outputs": [],
   "source": [
    "# vectors = vector.reshape((5,40))"
   ]
  },
  {
   "cell_type": "code",
   "execution_count": 41,
   "metadata": {
    "collapsed": true
   },
   "outputs": [],
   "source": [
    "# vectors[0,:]"
   ]
  },
  {
   "cell_type": "code",
   "execution_count": 42,
   "metadata": {
    "collapsed": true
   },
   "outputs": [],
   "source": [
    "# vectors_y_hat = model.predict(vectors.reshape(1, vectors.shape[0],vectors.shape[1]))\n",
    "# for i in vectors_y_hat[0]:\n",
    "#     print '%.32e' % i"
   ]
  },
  {
   "cell_type": "code",
   "execution_count": 43,
   "metadata": {
    "collapsed": true
   },
   "outputs": [],
   "source": [
    "# print \"Predicted hand label:\", np.argmax(vectors_y_hat, axis=1)[0]"
   ]
  },
  {
   "cell_type": "markdown",
   "metadata": {},
   "source": [
    "### Dump weights"
   ]
  },
  {
   "cell_type": "code",
   "execution_count": 44,
   "metadata": {
    "collapsed": true,
    "scrolled": false
   },
   "outputs": [],
   "source": [
    "# for layer in range(len(model.layers)):\n",
    "#     print type(model.layers[layer]).__name__\n",
    "#     layer_type = type(model.layers[layer]).__name__\n",
    "#     for e in zip(model.layers[layer].trainable_weights, model.layers[layer].get_weights()):\n",
    "#         if (1): #(layer_type == 'LSTM'):\n",
    "#             print('Param %s:\\n%d\\n%s' % (e[0],len(e[1]),e[1]))"
   ]
  },
  {
   "cell_type": "code",
   "execution_count": 45,
   "metadata": {
    "collapsed": true
   },
   "outputs": [],
   "source": [
    "# for layer in range(len(model.layers)):\n",
    "#     print layer, type(model.layers[layer]).__name__"
   ]
  },
  {
   "cell_type": "code",
   "execution_count": 46,
   "metadata": {
    "collapsed": true
   },
   "outputs": [],
   "source": [
    "# weights = model.layers[10].get_weights()\n",
    "# input_dim = weights[0].shape[1]/4 # 40 in case of hand keypoints\n",
    "\n",
    "# W_i = weights[0][:,0:input_dim] # [0:40] has input (i)\n",
    "# U_i = weights[1][:,0:input_dim]\n",
    "# b_i = weights[2][0:input_dim]\n",
    "\n",
    "# W_c = weights[0][:,input_dim:(2*input_dim)] # [40:80] has c\n",
    "# U_c = weights[1][:,input_dim:(2*input_dim)]\n",
    "# b_c = weights[2][input_dim:(2*input_dim)]\n",
    "\n",
    "# W_f = weights[0][:,(2*input_dim):(3*input_dim)] # [80:120] has f\n",
    "# U_f = weights[1][:,(2*input_dim):(3*input_dim)]\n",
    "# b_f = weights[2][(2*input_dim):(3*input_dim)]\n",
    "\n",
    "# W_o = weights[0][:,(3*input_dim):(4*input_dim)] # [80:120] has o\n",
    "# U_o = weights[1][:,(3*input_dim):(4*input_dim)]\n",
    "# b_o = weights[2][(3*input_dim):(4*input_dim)]"
   ]
  },
  {
   "cell_type": "code",
   "execution_count": 47,
   "metadata": {
    "collapsed": true
   },
   "outputs": [],
   "source": [
    "# input_dim"
   ]
  },
  {
   "cell_type": "code",
   "execution_count": 48,
   "metadata": {
    "collapsed": true
   },
   "outputs": [],
   "source": [
    "# W_i.shape, W_c.shape, W_f.shape, W_o.shape"
   ]
  },
  {
   "cell_type": "code",
   "execution_count": 49,
   "metadata": {
    "collapsed": true
   },
   "outputs": [],
   "source": [
    "# U_i.shape, U_c.shape, U_f.shape, U_o.shape"
   ]
  },
  {
   "cell_type": "code",
   "execution_count": 50,
   "metadata": {
    "collapsed": true
   },
   "outputs": [],
   "source": [
    "# b_i.shape, b_c.shape, b_f.shape, b_o.shape"
   ]
  },
  {
   "cell_type": "code",
   "execution_count": null,
   "metadata": {
    "collapsed": true
   },
   "outputs": [],
   "source": []
  }
 ],
 "metadata": {
  "kernelspec": {
   "display_name": "Python 2",
   "language": "python",
   "name": "python2"
  },
  "language_info": {
   "codemirror_mode": {
    "name": "ipython",
    "version": 2
   },
   "file_extension": ".py",
   "mimetype": "text/x-python",
   "name": "python",
   "nbconvert_exporter": "python",
   "pygments_lexer": "ipython2",
   "version": "2.7.12"
  }
 },
 "nbformat": 4,
 "nbformat_minor": 2
}
