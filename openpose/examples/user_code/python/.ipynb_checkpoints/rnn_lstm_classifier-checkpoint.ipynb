{
 "cells": [
  {
   "cell_type": "markdown",
   "metadata": {},
   "source": [
    "# RNN LSTM MultiClass Classifier for Openpose (hand) Keypoints"
   ]
  },
  {
   "cell_type": "markdown",
   "metadata": {},
   "source": [
    "- Author: Srini Ananthakrishnan\n",
    "- Date  : 09/08/2017"
   ]
  },
  {
   "cell_type": "markdown",
   "metadata": {},
   "source": [
    "### Import packages"
   ]
  },
  {
   "cell_type": "code",
   "execution_count": 1,
   "metadata": {},
   "outputs": [
    {
     "name": "stderr",
     "output_type": "stream",
     "text": [
      "Using TensorFlow backend.\n"
     ]
    }
   ],
   "source": [
    "import IPython\n",
    "import pandas as pd\n",
    "import keras\n",
    "import itertools\n",
    "import numpy as np\n",
    "import matplotlib.pyplot as plt\n",
    "%matplotlib inline"
   ]
  },
  {
   "cell_type": "code",
   "execution_count": 2,
   "metadata": {
    "collapsed": true
   },
   "outputs": [],
   "source": [
    "from keras.models import Sequential\n",
    "from keras.layers import Dense, Flatten, Dropout, TimeDistributed, Activation\n",
    "from keras.layers import LSTM\n",
    "from sklearn.cross_validation import train_test_split\n",
    "from sklearn.metrics import confusion_matrix\n",
    "from kerasify import export_model\n",
    "from keras.models import model_from_json\n",
    "import os"
   ]
  },
  {
   "cell_type": "markdown",
   "metadata": {},
   "source": [
    "### Load Hand Keypoints Samples and Labels"
   ]
  },
  {
   "cell_type": "code",
   "execution_count": 3,
   "metadata": {
    "collapsed": true
   },
   "outputs": [],
   "source": [
    "X = np.loadtxt(\"hand_samples.txt\", dtype=\"float\")"
   ]
  },
  {
   "cell_type": "code",
   "execution_count": 4,
   "metadata": {
    "collapsed": true
   },
   "outputs": [],
   "source": [
    "y = np.loadtxt(\"hand_labels.txt\")"
   ]
  },
  {
   "cell_type": "code",
   "execution_count": 5,
   "metadata": {},
   "outputs": [
    {
     "data": {
      "text/plain": [
       "((818, 200), (818,))"
      ]
     },
     "execution_count": 5,
     "metadata": {},
     "output_type": "execute_result"
    }
   ],
   "source": [
    "X.shape, y.shape"
   ]
  },
  {
   "cell_type": "code",
   "execution_count": 6,
   "metadata": {
    "collapsed": true
   },
   "outputs": [],
   "source": [
    "def samples_to_3D_array(_vector_dim, _vectors_per_sample, _X):\n",
    "    X_len = len(_X)\n",
    "    result_array = []\n",
    "    for sample in range (0,X_len):\n",
    "        sample_array = []\n",
    "        for vector_idx in range (0, _vectors_per_sample):\n",
    "            start = vector_idx * _vector_dim\n",
    "            end = start + _vector_dim\n",
    "            sample_array.append(_X[sample][start:end])\n",
    "        result_array.append(sample_array) \n",
    "\n",
    "    return np.asarray(result_array)"
   ]
  },
  {
   "cell_type": "markdown",
   "metadata": {},
   "source": [
    "#### Keras LSTM model require 3-Dimensional Tensors. Let's convert samples to 3D tensors !!"
   ]
  },
  {
   "cell_type": "code",
   "execution_count": 7,
   "metadata": {
    "collapsed": true
   },
   "outputs": [],
   "source": [
    "timesteps = 5"
   ]
  },
  {
   "cell_type": "code",
   "execution_count": 8,
   "metadata": {
    "collapsed": true
   },
   "outputs": [],
   "source": [
    "X_vector_dim = 40 # number of features or columns\n",
    "X_vectors_per_sample = timesteps # number of vectors per sample\n",
    "X_3D = samples_to_3D_array(X_vector_dim, X_vectors_per_sample, X)"
   ]
  },
  {
   "cell_type": "code",
   "execution_count": 9,
   "metadata": {},
   "outputs": [
    {
     "data": {
      "text/plain": [
       "(818, 5, 40)"
      ]
     },
     "execution_count": 9,
     "metadata": {},
     "output_type": "execute_result"
    }
   ],
   "source": [
    "X_3D.shape"
   ]
  },
  {
   "cell_type": "markdown",
   "metadata": {},
   "source": [
    "#### Converst y integer labels (0,1,2..) to one_hot_encoding vectors "
   ]
  },
  {
   "cell_type": "code",
   "execution_count": 10,
   "metadata": {
    "collapsed": true
   },
   "outputs": [],
   "source": [
    "def convert_y_to_one_hot(_y):\n",
    "    _y = np.asarray(_y,dtype=int)\n",
    "    b = np.zeros((_y.size, _y.max()+1))\n",
    "    b[np.arange(_y.size),_y] = 1\n",
    "    return b"
   ]
  },
  {
   "cell_type": "code",
   "execution_count": 11,
   "metadata": {
    "collapsed": true
   },
   "outputs": [],
   "source": [
    "# y_array = convert_y_to_one_hot(y)"
   ]
  },
  {
   "cell_type": "code",
   "execution_count": 12,
   "metadata": {
    "collapsed": true
   },
   "outputs": [],
   "source": [
    "# y_array[0]"
   ]
  },
  {
   "cell_type": "code",
   "execution_count": 13,
   "metadata": {
    "collapsed": true
   },
   "outputs": [],
   "source": [
    "# y_array.shape"
   ]
  },
  {
   "cell_type": "code",
   "execution_count": 14,
   "metadata": {
    "collapsed": true
   },
   "outputs": [],
   "source": [
    "# y_vector_dim = 1 # number of features or columns\n",
    "# y_vectors_per_sample = timesteps # number of vectors per sample\n",
    "# y_3D = samples_to_3D_array(y_vector_dim, y_vectors_per_sample, y_array)\n",
    "# y_3D.shape"
   ]
  },
  {
   "cell_type": "code",
   "execution_count": 15,
   "metadata": {
    "collapsed": true
   },
   "outputs": [],
   "source": [
    "# y_vector_dim = y_array.shape[1]\n",
    "# y_vector_dim"
   ]
  },
  {
   "cell_type": "code",
   "execution_count": 16,
   "metadata": {},
   "outputs": [
    {
     "data": {
      "text/plain": [
       "(818, 1)"
      ]
     },
     "execution_count": 16,
     "metadata": {},
     "output_type": "execute_result"
    }
   ],
   "source": [
    "y_array = y.reshape(y.shape[0],1)\n",
    "y_vector_dim = 1\n",
    "y_array.shape"
   ]
  },
  {
   "cell_type": "code",
   "execution_count": null,
   "metadata": {
    "collapsed": true
   },
   "outputs": [],
   "source": []
  },
  {
   "cell_type": "markdown",
   "metadata": {},
   "source": [
    "### Test-Train Split"
   ]
  },
  {
   "cell_type": "code",
   "execution_count": 17,
   "metadata": {
    "collapsed": true
   },
   "outputs": [],
   "source": [
    "#X_train, X_test, y_train, y_test = train_test_split(X_3D, y_3D, test_size=0.33, random_state=42)\n",
    "X_train, X_test, y_train, y_test = train_test_split(X_3D, y_array, test_size=0.45, random_state=49)"
   ]
  },
  {
   "cell_type": "code",
   "execution_count": 18,
   "metadata": {},
   "outputs": [
    {
     "data": {
      "text/plain": [
       "((449, 5, 40), (369, 5, 40), (449, 1), (369, 1))"
      ]
     },
     "execution_count": 18,
     "metadata": {},
     "output_type": "execute_result"
    }
   ],
   "source": [
    "X_train.shape, X_test.shape, y_train.shape, y_test.shape"
   ]
  },
  {
   "cell_type": "code",
   "execution_count": 19,
   "metadata": {},
   "outputs": [
    {
     "data": {
      "text/plain": [
       "(5, 40)"
      ]
     },
     "execution_count": 19,
     "metadata": {},
     "output_type": "execute_result"
    }
   ],
   "source": [
    "input_shape = (X_train.shape[1], X_train.shape[2])\n",
    "input_shape"
   ]
  },
  {
   "cell_type": "code",
   "execution_count": null,
   "metadata": {
    "collapsed": true
   },
   "outputs": [],
   "source": []
  },
  {
   "cell_type": "code",
   "execution_count": null,
   "metadata": {
    "collapsed": true
   },
   "outputs": [],
   "source": []
  },
  {
   "cell_type": "markdown",
   "metadata": {},
   "source": [
    "### Build Keras TimeDistributed(Dense) (many-to-many case) LSTM model"
   ]
  },
  {
   "cell_type": "code",
   "execution_count": 20,
   "metadata": {},
   "outputs": [
    {
     "name": "stdout",
     "output_type": "stream",
     "text": [
      "Model Parameters:\n",
      "input_shape     :  (5, 40)\n",
      "X_vector_dim    :  40\n",
      "y_vector_dim    :  1\n"
     ]
    }
   ],
   "source": [
    "print \"Model Parameters:\"\n",
    "print \"input_shape     : \", input_shape\n",
    "print \"X_vector_dim    : \", X_vector_dim\n",
    "print \"y_vector_dim    : \", y_vector_dim"
   ]
  },
  {
   "cell_type": "code",
   "execution_count": 21,
   "metadata": {
    "scrolled": false
   },
   "outputs": [
    {
     "name": "stdout",
     "output_type": "stream",
     "text": [
      "Build Keras Timedistributed-LSTM Model...\n",
      "_________________________________________________________________\n",
      "Layer (type)                 Output Shape              Param #   \n",
      "=================================================================\n",
      "time_distributed_1 (TimeDist (None, 5, 40)             1640      \n",
      "_________________________________________________________________\n",
      "dropout_1 (Dropout)          (None, 5, 40)             0         \n",
      "_________________________________________________________________\n",
      "time_distributed_2 (TimeDist (None, 5, 80)             3280      \n",
      "_________________________________________________________________\n",
      "dropout_2 (Dropout)          (None, 5, 80)             0         \n",
      "_________________________________________________________________\n",
      "time_distributed_3 (TimeDist (None, 5, 40)             3240      \n",
      "_________________________________________________________________\n",
      "dropout_3 (Dropout)          (None, 5, 40)             0         \n",
      "_________________________________________________________________\n",
      "time_distributed_4 (TimeDist (None, 5, 20)             820       \n",
      "_________________________________________________________________\n",
      "dropout_4 (Dropout)          (None, 5, 20)             0         \n",
      "_________________________________________________________________\n",
      "time_distributed_5 (TimeDist (None, 5, 10)             210       \n",
      "_________________________________________________________________\n",
      "dropout_5 (Dropout)          (None, 5, 10)             0         \n",
      "_________________________________________________________________\n",
      "lstm_1 (LSTM)                (None, 10)                840       \n",
      "_________________________________________________________________\n",
      "dense_6 (Dense)              (None, 1)                 11        \n",
      "=================================================================\n",
      "Total params: 10,041\n",
      "Trainable params: 10,041\n",
      "Non-trainable params: 0\n",
      "_________________________________________________________________\n"
     ]
    }
   ],
   "source": [
    "print (\"Build Keras Timedistributed-LSTM Model...\")\n",
    "_dropout = 0.3\n",
    "model = Sequential()\n",
    "model.add(TimeDistributed(Dense(X_vector_dim, activation='relu'), input_shape=input_shape))\n",
    "model.add(Dropout(_dropout))\n",
    "model.add(TimeDistributed(Dense(X_vector_dim*2, activation='relu'))) #(5, 80)\n",
    "model.add(Dropout(_dropout))\n",
    "model.add(TimeDistributed(Dense(X_vector_dim, activation='relu'))) #(5, 40)\n",
    "model.add(Dropout(_dropout))\n",
    "model.add(TimeDistributed(Dense(X_vector_dim/2, activation='relu'))) #(5, 20)\n",
    "model.add(Dropout(_dropout))\n",
    "model.add(TimeDistributed(Dense(X_vector_dim/4, activation='relu'))) #(5, 10)\n",
    "model.add(Dropout(_dropout))\n",
    "model.add(LSTM(X_vector_dim/4, dropout=_dropout, recurrent_dropout=_dropout))\n",
    "model.add(Dense(y_vector_dim,activation='softplus'))\n",
    "model.compile(loss='mean_squared_error', optimizer='adam', metrics=['accuracy'])\n",
    "model.summary()\n",
    "\n",
    "# Test-1: 94% val-acc\n",
    "# model = Sequential()\n",
    "# model.add(TimeDistributed(Dense(X_vector_dim, activation='relu'), input_shape=input_shape))\n",
    "# model.add(Dropout(_dropout))\n",
    "# model.add(TimeDistributed(Dense(X_vector_dim*2, activation='relu'))) #(5, 80)\n",
    "# model.add(Dropout(_dropout))\n",
    "# model.add(TimeDistributed(Dense(X_vector_dim, activation='relu'))) #(5, 40)\n",
    "# model.add(Dropout(_dropout))\n",
    "# model.add(TimeDistributed(Dense(X_vector_dim/2, activation='relu'))) #(5, 20)\n",
    "# model.add(Dropout(_dropout))\n",
    "# model.add(LSTM(X_vector_dim/2, dropout=_dropout, recurrent_dropout=_dropout))\n",
    "# model.add(Dense(y_vector_dim,activation='softplus'))\n",
    "# model.compile(loss='mean_squared_error', optimizer='adam', metrics=['accuracy'])\n",
    "# model.summary()"
   ]
  },
  {
   "cell_type": "code",
   "execution_count": 22,
   "metadata": {
    "collapsed": true
   },
   "outputs": [],
   "source": [
    "# Callback class to visialize training progress\n",
    "class TrainingVisualizer(keras.callbacks.History):\n",
    "    def on_epoch_end(self, epoch, logs={}):\n",
    "        super(TrainingVisualizer, self).on_epoch_end(epoch, logs)\n",
    "        IPython.display.clear_output(wait=True)\n",
    "        axes = pd.DataFrame(self.history).plot()\n",
    "        axes.axvline(x=max((val_acc, i) for i, val_acc in enumerate(self.history['val_acc']))[1])\n",
    "        plt.show()"
   ]
  },
  {
   "cell_type": "markdown",
   "metadata": {},
   "source": [
    "### Train Model"
   ]
  },
  {
   "cell_type": "code",
   "execution_count": 23,
   "metadata": {},
   "outputs": [
    {
     "data": {
      "text/plain": [
       "((449, 5, 40), (449, 1), (369, 5, 40), (369, 1))"
      ]
     },
     "execution_count": 23,
     "metadata": {},
     "output_type": "execute_result"
    }
   ],
   "source": [
    "X_train.shape, y_train.shape, X_test.shape, y_test.shape"
   ]
  },
  {
   "cell_type": "code",
   "execution_count": 24,
   "metadata": {
    "scrolled": true
   },
   "outputs": [
    {
     "data": {
      "image/png": "[encoded data removed]",
      "text/plain": [
       "<matplotlib.figure.Figure at 0x7f6418464210>"
      ]
     },
     "metadata": {},
     "output_type": "display_data"
    },
    {
     "name": "stdout",
     "output_type": "stream",
     "text": [
      "449/449 [==============================] - 0s - loss: 0.0675 - acc: 0.9421 - val_loss: 0.0593 - val_acc: 0.9350\n"
     ]
    },
    {
     "data": {
      "text/plain": [
       "<keras.callbacks.History at 0x7f6425f786d0>"
      ]
     },
     "execution_count": 24,
     "metadata": {},
     "output_type": "execute_result"
    }
   ],
   "source": [
    "print('Training...')\n",
    "epochs = 200\n",
    "batch_size = 32\n",
    "\n",
    "model.fit(X_train, y_train,\n",
    "          batch_size=batch_size,\n",
    "          epochs=epochs,\n",
    "          validation_data=(X_test, y_test),\n",
    "          callbacks=[TrainingVisualizer()])"
   ]
  },
  {
   "cell_type": "markdown",
   "metadata": {},
   "source": [
    "### Evaluate Model and Predict Classes"
   ]
  },
  {
   "cell_type": "code",
   "execution_count": 25,
   "metadata": {},
   "outputs": [
    {
     "name": "stdout",
     "output_type": "stream",
     "text": [
      "Testing...\n",
      "\r",
      " 32/369 [=>............................] - ETA: 0s"
     ]
    }
   ],
   "source": [
    "print('Testing...')\n",
    "score, accuracy = model.evaluate(X_test, y_test,\n",
    "                                 batch_size=batch_size)"
   ]
  },
  {
   "cell_type": "code",
   "execution_count": 26,
   "metadata": {},
   "outputs": [
    {
     "name": "stdout",
     "output_type": "stream",
     "text": [
      "Test score: 0.0593\n",
      "Test accuracy: 0.935\n"
     ]
    }
   ],
   "source": [
    "print('Test score: {:.3}'.format(score))\n",
    "print('Test accuracy: {:.3}'.format(accuracy))"
   ]
  },
  {
   "cell_type": "code",
   "execution_count": 27,
   "metadata": {},
   "outputs": [
    {
     "data": {
      "text/plain": [
       "((369, 5, 40), (369, 1))"
      ]
     },
     "execution_count": 27,
     "metadata": {},
     "output_type": "execute_result"
    }
   ],
   "source": [
    "X_test.shape, y_test.shape"
   ]
  },
  {
   "cell_type": "code",
   "execution_count": 28,
   "metadata": {
    "scrolled": false
   },
   "outputs": [
    {
     "data": {
      "text/plain": [
       "(369, 1)"
      ]
     },
     "execution_count": 28,
     "metadata": {},
     "output_type": "execute_result"
    }
   ],
   "source": [
    "y_pred = model.predict(X_test)\n",
    "y_pred.shape"
   ]
  },
  {
   "cell_type": "markdown",
   "metadata": {},
   "source": [
    "### Confusion Matrix"
   ]
  },
  {
   "cell_type": "code",
   "execution_count": 29,
   "metadata": {
    "collapsed": true
   },
   "outputs": [],
   "source": [
    "def plot_confusion_matrix(cm, classes,\n",
    "                          normalize=False,\n",
    "                          title='Confusion matrix',\n",
    "                          cmap=plt.cm.Blues):\n",
    "    \"\"\"\n",
    "    This function prints and plots the confusion matrix.\n",
    "    Normalization can be applied by setting `normalize=True`.\n",
    "    \"\"\"\n",
    "    if normalize:\n",
    "        cm = cm.astype('float') / cm.sum(axis=1)[:, np.newaxis]\n",
    "        print(\"Normalized confusion matrix\")\n",
    "    else:\n",
    "        print('Confusion matrix, without normalization')\n",
    "\n",
    "    print(cm)\n",
    "\n",
    "    plt.imshow(cm, interpolation='nearest', cmap=cmap)\n",
    "    plt.title(title)\n",
    "    plt.colorbar()\n",
    "    tick_marks = np.arange(len(classes))\n",
    "    plt.xticks(tick_marks, classes, rotation=45)\n",
    "    plt.yticks(tick_marks, classes)\n",
    "\n",
    "    fmt = '.2f' if normalize else 'd'\n",
    "    thresh = cm.max() / 2.\n",
    "    for i, j in itertools.product(range(cm.shape[0]), range(cm.shape[1])):\n",
    "        plt.text(j, i, format(cm[i, j], fmt),\n",
    "                 horizontalalignment=\"center\",\n",
    "                 color=\"white\" if cm[i, j] > thresh else \"black\")\n",
    "\n",
    "    plt.tight_layout()\n",
    "    plt.ylabel('True label')\n",
    "    plt.xlabel('Predicted label')"
   ]
  },
  {
   "cell_type": "code",
   "execution_count": 30,
   "metadata": {},
   "outputs": [
    {
     "data": {
      "text/plain": [
       "array([[ 1.],\n",
       "       [ 1.],\n",
       "       [ 1.],\n",
       "       [ 2.],\n",
       "       [ 1.],\n",
       "       [ 1.],\n",
       "       [ 2.],\n",
       "       [ 2.],\n",
       "       [ 1.],\n",
       "       [ 1.]])"
      ]
     },
     "execution_count": 30,
     "metadata": {},
     "output_type": "execute_result"
    }
   ],
   "source": [
    "y_test[:10]"
   ]
  },
  {
   "cell_type": "code",
   "execution_count": 31,
   "metadata": {},
   "outputs": [
    {
     "data": {
      "text/plain": [
       "array([[ 1.],\n",
       "       [ 1.],\n",
       "       [ 1.],\n",
       "       [ 2.],\n",
       "       [ 1.],\n",
       "       [ 1.],\n",
       "       [ 2.],\n",
       "       [ 2.],\n",
       "       [ 1.],\n",
       "       [ 1.]], dtype=float32)"
      ]
     },
     "execution_count": 31,
     "metadata": {},
     "output_type": "execute_result"
    }
   ],
   "source": [
    "np.ndarray.round(y_pred)[:10]"
   ]
  },
  {
   "cell_type": "code",
   "execution_count": 32,
   "metadata": {},
   "outputs": [
    {
     "name": "stdout",
     "output_type": "stream",
     "text": [
      "Confusion matrix, without normalization\n",
      "[[167   4   0   0]\n",
      " [ 16 178   0   0]\n",
      " [  0   3   0   0]\n",
      " [  0   1   0   0]]\n"
     ]
    },
    {
     "data": {
      "image/png": "[encoded data removed]",
      "text/plain": [
       "<matplotlib.figure.Figure at 0x7f6425f78d90>"
      ]
     },
     "metadata": {},
     "output_type": "display_data"
    }
   ],
   "source": [
    "#class_names = [0,1,2,3,4]\n",
    "class_names = [\"phone\",\"cup\",\"phone\",\"phone\"]\n",
    "\n",
    "# Compute confusion matrix\n",
    "\n",
    "#cnf_matrix = confusion_matrix(np.argmax(y_test, axis=1), np.argmax(y_pred, axis=1))\n",
    "cnf_matrix = confusion_matrix(y_test, np.ndarray.round(y_pred))\n",
    "#cnf_matrix = confusion_matrix(np.argmax(y_test, axis=1), y_pred)\n",
    "\n",
    "np.set_printoptions(precision=2)\n",
    "\n",
    "# Plot non-normalized confusion matrix\n",
    "plt.figure()\n",
    "plot_confusion_matrix(cnf_matrix, classes=class_names,\n",
    "                      title='Confusion matrix, without normalization')\n",
    "\n",
    "plt.show()\n"
   ]
  },
  {
   "cell_type": "code",
   "execution_count": 33,
   "metadata": {
    "scrolled": true
   },
   "outputs": [
    {
     "name": "stdout",
     "output_type": "stream",
     "text": [
      "TimeDistributed\n",
      "Activation:  relu\n",
      "TimeDistributed\n",
      "Activation:  relu\n",
      "TimeDistributed\n",
      "Activation:  relu\n",
      "TimeDistributed\n",
      "Activation:  relu\n",
      "TimeDistributed\n",
      "Activation:  relu\n",
      "Input Dim: 10\n",
      "Model saved to disk\n"
     ]
    }
   ],
   "source": [
    "export_model(model,'example.model')\n",
    "print(\"Model saved to disk\")"
   ]
  },
  {
   "cell_type": "code",
   "execution_count": 34,
   "metadata": {},
   "outputs": [],
   "source": [
    "# # serialize model to JSON\n",
    "# model_json = model.to_json()\n",
    "# with open(\"model.json\", \"w\") as json_file:\n",
    "#     json_file.write(model_json)\n",
    "# # serialize weights to HDF5\n",
    "# model.save_weights(\"model.h5\")\n",
    "# print(\"Saved model to disk\")"
   ]
  },
  {
   "cell_type": "code",
   "execution_count": null,
   "metadata": {
    "collapsed": true
   },
   "outputs": [],
   "source": []
  },
  {
   "cell_type": "code",
   "execution_count": null,
   "metadata": {
    "collapsed": true
   },
   "outputs": [],
   "source": []
  },
  {
   "cell_type": "markdown",
   "metadata": {},
   "source": [
    "### Sample Test\n",
    "\n",
    "#### ( eg: Each hand sample is a frame sequence (t0, t1, t2, t3, t4) of 5 vectors each 40 feature dimensions)"
   ]
  },
  {
   "cell_type": "code",
   "execution_count": 35,
   "metadata": {},
   "outputs": [
    {
     "name": "stdout",
     "output_type": "stream",
     "text": [
      "test_sample shape: (5, 40)\n"
     ]
    },
    {
     "data": {
      "text/plain": [
       "(1, 1)"
      ]
     },
     "execution_count": 35,
     "metadata": {},
     "output_type": "execute_result"
    }
   ],
   "source": [
    "test_sample = X_test[3]\n",
    "print \"test_sample shape:\",test_sample.shape\n",
    "test_sample_y_hat = model.predict(test_sample.reshape(1, test_sample.shape[0],test_sample.shape[1]))\n",
    "#test_sample_y_hat = model.predict_classes(test_sample.reshape(1, test_sample.shape[0],test_sample.shape[1]))\n",
    "test_sample_y_hat.shape"
   ]
  },
  {
   "cell_type": "code",
   "execution_count": 36,
   "metadata": {},
   "outputs": [
    {
     "name": "stdout",
     "output_type": "stream",
     "text": [
      "Predicted hand label: 2.0\n",
      "Actual hand label   : 2.0\n"
     ]
    }
   ],
   "source": [
    "# print \"Predicted hand label:\", np.argmax(test_sample_y_hat, axis=1)[0][0]\n",
    "#print \"Actual hand label   :\", np.argmax(y_test[20])\n",
    "print \"Predicted hand label:\", round(test_sample_y_hat[0][0])\n",
    "print \"Actual hand label   :\", y_test[3][0]"
   ]
  },
  {
   "cell_type": "markdown",
   "metadata": {},
   "source": [
    "## Appendix"
   ]
  },
  {
   "cell_type": "code",
   "execution_count": 37,
   "metadata": {
    "scrolled": false
   },
   "outputs": [
    {
     "name": "stdout",
     "output_type": "stream",
     "text": [
      "TimeDistributed\n",
      "Param <tf.Variable 'time_distributed_1/kernel:0' shape=(40, 40) dtype=float32_ref>:\n",
      "40\n",
      "[[-0.04  0.31 -0.04 ...,  0.14  0.1   0.14]\n",
      " [-0.24 -0.34 -0.21 ..., -0.05  0.17  0.12]\n",
      " [ 0.16 -0.14 -0.04 ..., -0.1   0.15  0.22]\n",
      " ..., \n",
      " [-0.01  0.23 -0.18 ...,  0.06 -0.23 -0.04]\n",
      " [ 0.15 -0.02  0.24 ...,  0.19  0.14  0.05]\n",
      " [-0.17  0.14  0.22 ...,  0.06 -0.08  0.25]]\n",
      "Param <tf.Variable 'time_distributed_1/bias:0' shape=(40,) dtype=float32_ref>:\n",
      "40\n",
      "[-0.2  -0.01 -0.   -0.05  0.05  0.08  0.02  0.05 -0.01  0.06 -0.19 -0.01\n",
      "  0.02  0.06 -0.22 -0.16 -0.22  0.03 -0.01  0.05 -0.09  0.04  0.02  0.08\n",
      "  0.04 -0.1   0.03 -0.19 -0.05  0.03 -0.01  0.05 -0.18  0.05  0.03 -0.14\n",
      " -0.09 -0.11 -0.02 -0.14]\n",
      "Dropout\n",
      "TimeDistributed\n",
      "Param <tf.Variable 'time_distributed_2/kernel:0' shape=(40, 80) dtype=float32_ref>:\n",
      "40\n",
      "[[-0.02 -0.    0.12 ..., -0.11  0.1  -0.32]\n",
      " [-0.08 -0.3  -0.02 ..., -0.22 -0.14  0.16]\n",
      " [-0.1  -0.07  0.16 ..., -0.13  0.04  0.18]\n",
      " ..., \n",
      " [-0.12  0.16 -0.02 ...,  0.15  0.01 -0.04]\n",
      " [ 0.14  0.02  0.05 ...,  0.11  0.01 -0.02]\n",
      " [ 0.11 -0.06  0.09 ...,  0.11  0.15  0.01]]\n",
      "Param <tf.Variable 'time_distributed_2/bias:0' shape=(80,) dtype=float32_ref>:\n",
      "80\n",
      "[ 0.02 -0.02 -0.04  0.07  0.06  0.01 -0.01  0.04 -0.05  0.05 -0.01 -0.06\n",
      " -0.07 -0.    0.03  0.06 -0.04 -0.03 -0.04 -0.04 -0.01 -0.04 -0.06  0.   -0.\n",
      " -0.03 -0.01  0.04 -0.01 -0.01  0.01 -0.02 -0.01 -0.06 -0.03  0.05  0.02\n",
      " -0.02 -0.04 -0.01 -0.03 -0.04 -0.    0.04 -0.04 -0.03 -0.03  0.01  0.04\n",
      "  0.   -0.03 -0.   -0.05 -0.06  0.02  0.03 -0.05  0.07  0.05  0.   -0.04\n",
      "  0.08 -0.01 -0.01  0.   -0.02 -0.04  0.06 -0.1   0.02 -0.04 -0.05  0.02\n",
      "  0.03 -0.03  0.04  0.03 -0.04 -0.04 -0.03]\n",
      "Dropout\n",
      "TimeDistributed\n",
      "Param <tf.Variable 'time_distributed_3/kernel:0' shape=(80, 40) dtype=float32_ref>:\n",
      "80\n",
      "[[ 0.23  0.07  0.14 ..., -0.19  0.32  0.14]\n",
      " [ 0.2   0.19 -0.01 ..., -0.13 -0.02  0.03]\n",
      " [ 0.25 -0.11  0.14 ..., -0.21  0.35 -0.16]\n",
      " ..., \n",
      " [-0.17  0.11  0.04 ...,  0.07  0.23  0.08]\n",
      " [-0.06 -0.03 -0.14 ...,  0.17 -0.04  0.03]\n",
      " [-0.11 -0.07 -0.08 ..., -0.08 -0.05 -0.05]]\n",
      "Param <tf.Variable 'time_distributed_3/bias:0' shape=(40,) dtype=float32_ref>:\n",
      "40\n",
      "[-0.07 -0.02  0.03  0.03  0.07  0.02 -0.02  0.02 -0.01 -0.06 -0.05  0.\n",
      " -0.06 -0.03 -0.04 -0.03 -0.01 -0.03 -0.03  0.04 -0.05  0.02 -0.05 -0.01\n",
      " -0.   -0.03 -0.03 -0.04 -0.03 -0.05 -0.02 -0.   -0.05 -0.02 -0.03 -0.04\n",
      " -0.09  0.01 -0.03 -0.09]\n",
      "Dropout\n",
      "TimeDistributed\n",
      "Param <tf.Variable 'time_distributed_4/kernel:0' shape=(40, 20) dtype=float32_ref>:\n",
      "40\n",
      "[[ 0.42  0.18 -0.04  0.21  0.2  -0.03  0.06  0.17  0.11 -0.18 -0.02  0.18\n",
      "  -0.23 -0.18  0.38  0.02 -0.01  0.17 -0.16 -0.08]\n",
      " [-0.11  0.33  0.28  0.18  0.2   0.22 -0.    0.16 -0.1  -0.07  0.25 -0.03\n",
      "  -0.13  0.05 -0.11 -0.04  0.05 -0.14 -0.1  -0.15]\n",
      " [ 0.3  -0.09  0.31 -0.21  0.15 -0.21 -0.34 -0.2   0.2  -0.22 -0.12  0.16\n",
      "  -0.05  0.19 -0.31 -0.05 -0.24  0.   -0.23 -0.36]\n",
      " [-0.24 -0.18 -0.23  0.03 -0.14  0.39 -0.31 -0.   -0.17  0.03  0.12 -0.12\n",
      "   0.11  0.04 -0.15 -0.19 -0.1   0.12  0.1  -0.21]\n",
      " [-0.05 -0.27 -0.08 -0.15 -0.18  0.08 -0.35  0.08 -0.14 -0.09 -0.14 -0.15\n",
      "   0.05 -0.01 -0.27  0.05 -0.06 -0.1  -0.22 -0.14]\n",
      " [-0.12  0.01  0.26 -0.07 -0.1   0.17  0.07  0.07  0.18  0.04  0.16 -0.16\n",
      "   0.14  0.22  0.39  0.28  0.02 -0.07  0.2   0.15]\n",
      " [ 0.09  0.19 -0.13 -0.16  0.26  0.12 -0.29  0.23 -0.29 -0.08 -0.03 -0.3\n",
      "  -0.31  0.29 -0.05  0.14  0.25 -0.04  0.16 -0.1 ]\n",
      " [-0.11  0.13  0.34  0.28  0.05 -0.15  0.24 -0.1   0.05  0.03  0.34  0.16\n",
      "  -0.03 -0.17  0.26 -0.2   0.21 -0.09  0.29  0.26]\n",
      " [ 0.08 -0.23 -0.1   0.19 -0.01  0.14 -0.24 -0.3  -0.08  0.04  0.26 -0.18\n",
      "  -0.05 -0.17 -0.2  -0.16 -0.17 -0.01 -0.32  0.07]\n",
      " [ 0.52  0.01  0.16  0.32  0.31 -0.12  0.14  0.12 -0.15  0.14  0.17 -0.08\n",
      "  -0.09  0.29  0.18  0.06 -0.06 -0.09 -0.08  0.02]\n",
      " [ 0.26  0.25  0.39 -0.13  0.25  0.07 -0.12 -0.26 -0.15  0.1   0.09  0.27\n",
      "  -0.22 -0.04  0.11  0.07 -0.27  0.25  0.19  0.42]\n",
      " [-0.07  0.06  0.19  0.18  0.21 -0.12 -0.16  0.07 -0.13 -0.15  0.11 -0.1\n",
      "   0.08  0.07  0.12  0.37  0.19 -0.31  0.15  0.23]\n",
      " [ 0.04  0.04 -0.16  0.05 -0.18 -0.08 -0.28 -0.26 -0.09  0.33  0.22  0.26\n",
      "  -0.21 -0.13 -0.06  0.01 -0.05  0.09  0.1   0.12]\n",
      " [ 0.31 -0.19 -0.06  0.32  0.05 -0.22 -0.26 -0.04 -0.01  0.13  0.4   0.14\n",
      "  -0.17  0.01  0.03  0.39 -0.03  0.06  0.18 -0.02]\n",
      " [ 0.13 -0.33 -0.18  0.05 -0.22  0.28  0.18  0.09 -0.02 -0.25  0.05  0.11\n",
      "  -0.31  0.01 -0.05 -0.14 -0.2   0.21  0.09  0.06]\n",
      " [-0.13 -0.12  0.23 -0.23 -0.25  0.16 -0.29  0.29  0.23  0.1   0.06 -0.08\n",
      "  -0.16 -0.24 -0.25  0.05 -0.27 -0.31  0.1   0.18]\n",
      " [ 0.31  0.07 -0.2   0.33 -0.16 -0.19 -0.08 -0.24  0.07 -0.07  0.16 -0.14\n",
      "   0.2   0.24  0.33  0.1   0.16 -0.14 -0.01  0.15]\n",
      " [-0.18  0.08 -0.39 -0.22 -0.19 -0.07 -0.14 -0.06 -0.02  0.09  0.07 -0.15\n",
      "   0.19  0.03 -0.2   0.09  0.01 -0.29 -0.23 -0.32]\n",
      " [ 0.22  0.01  0.11  0.31  0.33  0.1   0.14 -0.18 -0.04  0.18  0.24 -0.22\n",
      "  -0.14 -0.31  0.32  0.03 -0.06 -0.02 -0.14 -0.07]\n",
      " [-0.33 -0.03 -0.07 -0.31  0.11 -0.22  0.02  0.04 -0.26 -0.02 -0.28 -0.11\n",
      "  -0.13 -0.31 -0.04 -0.3   0.11 -0.08 -0.39 -0.08]\n",
      " [ 0.01 -0.14  0.2   0.1   0.43 -0.21 -0.04  0.17 -0.06  0.43 -0.1   0.29\n",
      "  -0.3   0.24 -0.16  0.36  0.13  0.03 -0.06  0.34]\n",
      " [-0.28 -0.24 -0.12 -0.27  0.2   0.06  0.07 -0.26  0.1  -0.2   0.14 -0.22\n",
      "  -0.33  0.17  0.05  0.09 -0.03  0.11  0.04 -0.09]\n",
      " [ 0.19 -0.16 -0.07 -0.3  -0.3  -0.19  0.04  0.22  0.01 -0.29  0.25 -0.23\n",
      "   0.03  0.19 -0.26  0.14  0.14  0.08 -0.17 -0.05]\n",
      " [ 0.31  0.29  0.06 -0.15  0.02  0.01 -0.24 -0.35 -0.06  0.13  0.23 -0.05\n",
      "   0.21 -0.03 -0.18  0.35 -0.1   0.23  0.37  0.16]\n",
      " [-0.17 -0.07 -0.23  0.08 -0.26  0.02 -0.23 -0.27 -0.28 -0.02 -0.02  0.15\n",
      "  -0.29 -0.16 -0.26 -0.09  0.04 -0.19  0.27  0.28]\n",
      " [ 0.06  0.33  0.06  0.27  0.42 -0.28  0.08  0.17  0.22  0.11  0.22 -0.05\n",
      "  -0.34 -0.22 -0.03 -0.    0.11  0.09  0.12 -0.2 ]\n",
      " [ 0.36  0.11  0.07 -0.09  0.16 -0.33 -0.18 -0.06 -0.22  0.27  0.32 -0.01\n",
      "  -0.06  0.06  0.16 -0.2  -0.23 -0.28 -0.12  0.18]\n",
      " [ 0.13  0.3   0.15  0.06 -0.09 -0.13  0.29  0.1   0.11 -0.13 -0.21  0.28\n",
      "   0.17  0.21  0.33  0.08 -0.17 -0.33 -0.07  0.27]\n",
      " [-0.18  0.16 -0.11  0.26  0.19 -0.21 -0.17  0.11 -0.27  0.3   0.2  -0.26\n",
      "  -0.    0.03 -0.11  0.19 -0.31 -0.33  0.22  0.16]\n",
      " [ 0.22  0.11  0.17  0.27 -0.18 -0.34  0.09 -0.27 -0.16  0.4   0.32 -0.04\n",
      "  -0.11 -0.26 -0.1  -0.15 -0.27 -0.13  0.1  -0.11]\n",
      " [-0.04  0.05  0.23 -0.05  0.08 -0.02  0.24 -0.12 -0.19  0.23  0.35 -0.28\n",
      "  -0.09 -0.06  0.03  0.04 -0.09 -0.19  0.25  0.32]\n",
      " [ 0.09  0.06  0.11 -0.09  0.21 -0.2  -0.05  0.05  0.31  0.34 -0.19  0.11\n",
      "  -0.07  0.26  0.36  0.32 -0.32  0.03  0.24  0.04]\n",
      " [-0.09 -0.22  0.25  0.18 -0.07  0.2   0.24 -0.06 -0.19 -0.19  0.08  0.14\n",
      "  -0.01 -0.22  0.02 -0.04 -0.16  0.23  0.07  0.34]\n",
      " [-0.12  0.17  0.28  0.33  0.34 -0.18  0.08 -0.1  -0.05  0.32  0.44  0.15\n",
      "   0.02 -0.09  0.3   0.26 -0.18  0.17 -0.17  0.07]\n",
      " [ 0.06  0.36  0.34 -0.25 -0.    0.15 -0.15 -0.07  0.23  0.4   0.13  0.\n",
      "  -0.29 -0.   -0.08  0.19 -0.31 -0.27  0.04  0.28]\n",
      " [ 0.29  0.01  0.05  0.13 -0.08 -0.29 -0.28  0.22  0.23  0.09  0.08 -0.\n",
      "  -0.18 -0.19  0.07  0.07  0.21 -0.21  0.21  0.37]\n",
      " [-0.17 -0.03 -0.15  0.08  0.2   0.12 -0.24  0.06 -0.18  0.17 -0.02  0.17\n",
      "  -0.11  0.07 -0.2   0.19  0.01  0.04 -0.19  0.21]\n",
      " [ 0.06  0.17 -0.09 -0.31 -0.08  0.11 -0.25 -0.08 -0.    0.1  -0.03 -0.13\n",
      "   0.16  0.02 -0.31 -0.1   0.09 -0.1  -0.33 -0.11]\n",
      " [ 0.31 -0.13  0.02 -0.22  0.21 -0.01 -0.3  -0.18 -0.1   0.3  -0.06 -0.2\n",
      "  -0.04  0.08  0.36  0.23  0.11 -0.07  0.3   0.17]\n",
      " [-0.    0.18  0.21  0.28 -0.01  0.17  0.15  0.03 -0.03 -0.28 -0.28 -0.13\n",
      "   0.12  0.07 -0.23  0.01 -0.21  0.04  0.22 -0.17]]\n",
      "Param <tf.Variable 'time_distributed_4/bias:0' shape=(20,) dtype=float32_ref>:\n",
      "20\n",
      "[ 0.02 -0.05  0.02 -0.08 -0.04 -0.   -0.03 -0.08  0.06 -0.02 -0.06 -0.05\n",
      " -0.12  0.01 -0.01 -0.01 -0.07 -0.05 -0.    0.03]\n",
      "Dropout\n",
      "TimeDistributed\n",
      "Param <tf.Variable 'time_distributed_5/kernel:0' shape=(20, 10) dtype=float32_ref>:\n",
      "20\n",
      "[[ 0.41 -0.21  0.49  0.36 -0.11  0.33  0.32  0.31  0.38 -0.11]\n",
      " [ 0.15 -0.1   0.35  0.01 -0.15  0.33  0.21  0.43  0.11  0.26]\n",
      " [ 0.45  0.26  0.22  0.22  0.42 -0.08  0.04  0.42  0.4   0.36]\n",
      " [ 0.45 -0.49  0.16  0.39  0.04  0.39 -0.2  -0.2   0.06  0.22]\n",
      " [ 0.21 -0.56 -0.    0.06  0.41  0.35  0.14  0.38  0.13  0.13]\n",
      " [-0.24  0.68 -0.04 -0.35 -0.41 -0.15 -0.   -0.   -0.12 -0.11]\n",
      " [-0.13  0.08  0.27 -0.35  0.14  0.1   0.    0.35  0.13  0.02]\n",
      " [-0.22 -0.31  0.38 -0.02  0.25 -0.33  0.01  0.28 -0.03  0.06]\n",
      " [ 0.45  0.24  0.18 -0.08 -0.01 -0.11  0.12  0.13 -0.1  -0.24]\n",
      " [ 0.27 -0.6   0.02  0.45  0.02 -0.21  0.38 -0.06  0.26  0.29]\n",
      " [-0.27 -0.19  0.01  0.32  0.24  0.48 -0.01  0.25  0.08  0.34]\n",
      " [-0.29 -0.3  -0.18 -0.12  0.08  0.2  -0.23  0.17  0.53 -0.11]\n",
      " [ 0.17  0.16  0.02  0.26  0.36 -0.16 -0.45 -0.04 -0.01 -0.13]\n",
      " [ 0.25  0.43 -0.03  0.32  0.39 -0.24  0.43 -0.19  0.04 -0.12]\n",
      " [ 0.39  0.02 -0.15  0.24  0.31  0.34 -0.05  0.02  0.36  0.48]\n",
      " [ 0.36 -0.43  0.38  0.09 -0.18 -0.16 -0.02  0.33  0.12  0.52]\n",
      " [ 0.25  0.02  0.1  -0.25 -0.25 -0.27 -0.06  0.11 -0.11 -0.25]\n",
      " [ 0.31  0.22  0.25 -0.07  0.1  -0.41  0.24  0.2  -0.13 -0.35]\n",
      " [ 0.31 -0.39  0.24 -0.13  0.36  0.46  0.22 -0.03  0.36  0.22]\n",
      " [-0.22 -0.6   0.22  0.08  0.1   0.27 -0.19  0.22  0.03  0.12]]\n",
      "Param <tf.Variable 'time_distributed_5/bias:0' shape=(10,) dtype=float32_ref>:\n",
      "10\n",
      "[ 0.    0.2  -0.01 -0.   -0.   -0.05  0.01 -0.    0.01 -0.01]\n",
      "Dropout\n",
      "LSTM\n",
      "Param <tf.Variable 'lstm_1/kernel:0' shape=(10, 40) dtype=float32_ref>:\n",
      "10\n",
      "[[ -2.33e-02  -9.47e-02   2.52e-01   2.83e-01  -2.44e-01   4.28e-02\n",
      "    1.63e-01   2.46e-01  -2.62e-01   2.21e-01   2.89e-02   4.96e-01\n",
      "   -1.27e-01   1.62e-01   1.69e-01   2.85e-01   5.17e-01  -2.54e-02\n",
      "   -3.06e-01   9.49e-02   1.57e-01  -9.79e-02  -4.31e-02  -1.16e-01\n",
      "   -1.60e-01   3.51e-01  -2.22e-01  -3.73e-01   1.29e-01  -1.93e-01\n",
      "   -2.58e-01   2.23e-02   2.29e-02  -2.74e-02   9.87e-02   4.06e-02\n",
      "    2.23e-01  -3.14e-01  -8.38e-02  -1.19e-01]\n",
      " [ -2.91e-01  -3.05e-01  -2.15e-01  -2.84e-01   5.43e-01   2.89e-01\n",
      "    2.51e-01  -2.26e-01  -2.61e-01   1.82e-01  -2.43e-01  -8.27e-01\n",
      "   -3.30e-02  -2.16e-01   1.61e-01   1.40e-01  -6.00e-01  -4.77e-01\n",
      "   -5.65e-01  -4.12e-01   1.44e-01   4.41e-01   8.22e-02  -3.43e-01\n",
      "   -3.60e-01  -1.38e-01   4.74e-02   7.76e-02   1.70e-01  -1.29e-01\n",
      "    2.03e-01   1.18e-01  -4.78e-01  -4.34e-01   1.42e-01  -8.91e-02\n",
      "    5.29e-04  -1.60e-02  -5.09e-01  -2.02e-01]\n",
      " [ -1.70e-01   1.97e-01   4.27e-01   4.64e-01  -1.58e-01  -2.85e-01\n",
      "    3.12e-01   8.92e-02  -1.22e-01   4.86e-01  -1.70e-01   5.78e-01\n",
      "    2.37e-01   5.55e-01  -6.86e-02   1.61e-01   6.51e-02   3.62e-01\n",
      "    1.26e-01   4.83e-01   5.09e-02  -1.18e-01  -1.33e-01  -6.98e-02\n",
      "   -7.75e-02   5.03e-01  -2.15e-01  -1.89e-01   3.76e-02  -2.95e-01\n",
      "    5.76e-02  -9.58e-02   9.92e-02   6.82e-02  -1.43e-01   3.38e-01\n",
      "    2.37e-01  -3.66e-01  -7.76e-02  -1.26e-01]\n",
      " [  7.11e-02   1.54e-01   1.05e-01   5.33e-01   9.44e-02  -2.09e-01\n",
      "    3.84e-03   2.89e-01   3.41e-02   3.54e-01   7.31e-03  -5.44e-02\n",
      "    3.79e-01   3.55e-01  -1.21e-01   4.71e-01   3.37e-01   2.90e-01\n",
      "    2.63e-01   4.74e-02   3.19e-02  -1.80e-01  -2.18e-01  -3.76e-01\n",
      "   -1.20e-02  -1.97e-01  -3.68e-01  -1.10e-01  -2.63e-01  -3.15e-01\n",
      "   -2.53e-01  -3.22e-01   2.81e-01   3.81e-01  -7.63e-02  -3.43e-01\n",
      "   -4.69e-02  -5.11e-02  -2.76e-01   2.97e-01]\n",
      " [ -2.46e-01   3.26e-01   3.71e-01   1.80e-01   7.93e-03  -3.46e-01\n",
      "    3.80e-01   2.86e-02   1.92e-01   4.37e-01   1.77e-01   3.88e-01\n",
      "    1.22e-01   6.68e-01  -2.97e-02  -3.12e-03   2.33e-01  -1.58e-01\n",
      "    2.11e-01   5.56e-01  -4.08e-01  -4.78e-02  -1.56e-01  -1.94e-01\n",
      "   -1.78e-01   6.66e-03  -5.04e-02  -3.53e-01  -4.05e-01  -2.38e-01\n",
      "   -2.74e-01  -1.61e-01  -3.91e-01   1.87e-01  -9.38e-02   2.19e-01\n",
      "    6.67e-02   9.51e-02   1.58e-01  -1.19e-01]\n",
      " [  3.39e-01   4.03e-01   4.15e-01   1.44e-01  -3.94e-01  -3.50e-01\n",
      "    2.73e-01   3.37e-02   1.04e-02   1.73e-01   1.77e-01   4.44e-01\n",
      "   -5.24e-02   3.97e-01   1.12e-02   1.61e-01   3.69e-01   2.16e-01\n",
      "    4.05e-02   3.83e-01  -3.17e-01  -1.79e-01  -2.59e-01  -3.75e-01\n",
      "   -5.70e-02  -2.83e-02  -3.82e-01  -2.84e-01  -7.11e-02   7.75e-02\n",
      "    3.16e-01  -2.25e-01  -1.84e-01   1.50e-01  -1.21e-01   2.06e-01\n",
      "   -1.60e-01   1.92e-01  -1.73e-01   2.89e-01]\n",
      " [  3.35e-01   1.50e-01   3.98e-01  -6.28e-02  -2.45e-01  -2.96e-01\n",
      "    4.91e-01   3.46e-01  -2.41e-01   3.13e-01   1.38e-01   2.05e-01\n",
      "    5.02e-01   6.42e-01   8.58e-02   2.20e-02   3.54e-01  -2.14e-02\n",
      "    9.39e-02   2.90e-01  -3.08e-01  -4.65e-02  -4.72e-01  -1.65e-02\n",
      "   -3.29e-01   1.30e-01  -2.74e-01  -2.52e-02  -3.97e-01  -2.55e-01\n",
      "   -2.95e-01   1.06e-01  -2.23e-01  -6.69e-02   8.89e-02  -9.95e-02\n",
      "    1.65e-01  -4.82e-02   2.57e-01  -2.27e-01]\n",
      " [ -3.34e-01   2.68e-01   1.64e-01   1.90e-01   2.44e-01  -2.15e-01\n",
      "    1.93e-01   1.86e-01  -2.40e-01   3.20e-02  -2.91e-01   7.68e-02\n",
      "    4.49e-01   8.20e-02  -7.85e-02   2.10e-01   1.00e-01  -9.05e-03\n",
      "   -2.31e-01   5.13e-01   1.14e-01  -9.79e-02  -3.69e-01  -1.57e-01\n",
      "   -3.57e-02   2.09e-01  -4.68e-01  -4.81e-01  -3.62e-01  -2.81e-01\n",
      "   -1.98e-01  -9.40e-02  -1.90e-01  -1.72e-02  -1.05e-02  -1.62e-01\n",
      "   -6.84e-03   1.79e-01  -3.20e-01   1.55e-01]\n",
      " [ -2.53e-01   1.06e-01   8.98e-02   5.09e-01  -3.98e-01  -1.46e-01\n",
      "    2.47e-01  -1.09e-01   1.11e-01   4.91e-02  -2.47e-01  -8.78e-03\n",
      "   -4.77e-02   2.75e-01   9.52e-02   2.33e-01   2.83e-01   3.20e-01\n",
      "   -2.28e-01   4.21e-03  -1.32e-01  -3.79e-01  -2.65e-01  -3.48e-01\n",
      "    8.15e-02   3.70e-01  -1.29e-01   7.74e-02   1.44e-01  -1.44e-01\n",
      "    3.82e-02  -5.33e-02  -8.78e-02   2.80e-01   3.09e-02   1.10e-01\n",
      "    1.93e-01  -3.21e-01  -4.75e-02  -2.12e-01]\n",
      " [ -5.32e-02   4.42e-01   6.65e-02   3.49e-01  -3.07e-01  -1.45e-01\n",
      "    4.73e-03   2.81e-01  -3.45e-01   4.88e-02  -1.43e-01   1.24e-01\n",
      "   -1.83e-01   4.37e-01  -2.29e-01   4.28e-01   2.49e-01   1.76e-01\n",
      "    2.22e-01   9.64e-02   6.79e-03  -2.76e-01   8.23e-03  -2.79e-01\n",
      "    7.15e-02  -1.35e-01  -2.23e-01  -1.74e-01  -1.30e-01  -1.49e-01\n",
      "    5.71e-02  -1.25e-01   1.49e-01   1.57e-01  -3.03e-02  -2.81e-01\n",
      "   -5.53e-02  -1.80e-02  -2.32e-01   1.90e-01]]\n",
      "Param <tf.Variable 'lstm_1/recurrent_kernel:0' shape=(10, 40) dtype=float32_ref>:\n",
      "10\n",
      "[[ -8.55e-02  -4.72e-01  -8.20e-02  -7.26e-02   3.10e-02   1.29e-01\n",
      "    6.32e-02  -7.90e-03  -7.24e-03   7.50e-02   1.59e-01   3.09e-02\n",
      "    8.38e-04   8.97e-02  -2.44e-01   5.75e-04   8.05e-02  -2.61e-02\n",
      "    1.09e-01   4.38e-01  -1.09e-01  -2.61e-02   6.59e-03   1.80e-01\n",
      "    4.97e-03  -1.70e-01   4.72e-02   2.15e-01   9.00e-02   1.27e-01\n",
      "   -1.57e-01  -1.10e-01  -1.07e-01   2.56e-01   3.07e-01   2.10e-01\n",
      "    2.97e-01   1.09e-01  -5.18e-02   1.27e-01]\n",
      " [ -6.37e-02  -3.03e-02   5.00e-02  -6.62e-02   2.32e-01   1.62e-01\n",
      "    2.70e-02  -1.08e-01   6.19e-02  -1.58e-01   2.23e-01   1.77e-01\n",
      "    1.47e-01   1.38e-01   4.35e-01   1.29e-01  -2.84e-01   2.61e-01\n",
      "   -2.12e-01  -3.78e-02   1.04e-01  -1.32e-01  -2.41e-01  -3.72e-02\n",
      "   -7.00e-02  -2.70e-01  -1.05e-01  -6.07e-02   1.16e-01  -1.65e-01\n",
      "    3.48e-01  -2.98e-02   2.74e-02   9.02e-02   2.34e-01   2.32e-02\n",
      "    5.95e-02  -4.46e-02   7.69e-02  -1.57e-01]\n",
      " [  1.92e-01  -1.02e-01   3.95e-02   2.25e-02   1.77e-01  -1.91e-01\n",
      "   -1.45e-01  -6.53e-02   3.62e-01  -2.04e-02   7.12e-02  -3.85e-02\n",
      "    2.02e-01  -7.84e-02   2.43e-02   2.49e-02   1.74e-01  -5.72e-02\n",
      "    1.03e-01  -1.82e-01   6.49e-02  -1.34e-02   1.44e-02   2.65e-01\n",
      "   -2.93e-01  -1.85e-01  -1.23e-01  -3.57e-01  -7.45e-02   2.66e-01\n",
      "    1.96e-01  -1.31e-01   1.20e-01  -1.08e-01   8.09e-02   1.94e-01\n",
      "   -8.17e-02   2.76e-01  -7.05e-03   1.58e-01]\n",
      " [  2.46e-01  -7.16e-02  -1.11e-01   1.21e-01   2.70e-01   1.30e-01\n",
      "   -2.11e-01   7.83e-02   1.03e-01   8.86e-02  -3.21e-02  -1.74e-01\n",
      "   -2.39e-01   2.25e-02   2.11e-01  -6.88e-02  -1.19e-01   8.88e-02\n",
      "   -1.36e-01  -1.54e-01  -2.08e-01   1.48e-03  -1.99e-02   2.63e-01\n",
      "   -7.76e-02   1.32e-01   5.07e-02   7.78e-02  -2.11e-01   1.95e-02\n",
      "    1.76e-01   1.08e-01   1.48e-01  -2.09e-01   3.25e-01   4.79e-01\n",
      "    1.84e-01  -2.62e-01   3.58e-01  -8.13e-02]\n",
      " [  2.49e-01   9.94e-02  -6.43e-02  -2.15e-01   8.56e-03   2.65e-01\n",
      "   -2.54e-01  -8.80e-02   1.76e-01   2.31e-01   1.92e-01   1.41e-01\n",
      "    2.31e-01   2.80e-01   3.27e-03   2.68e-02   1.51e-01   2.01e-01\n",
      "    1.80e-01  -1.36e-01  -6.11e-02   9.64e-02   1.46e-01   1.56e-01\n",
      "    4.02e-02  -1.51e-02   2.66e-02  -1.49e-01   2.50e-02   1.07e-01\n",
      "    6.60e-02   2.85e-02  -2.18e-01   3.96e-01  -2.10e-01   1.52e-01\n",
      "    3.94e-02  -1.87e-01   4.01e-01   1.77e-01]\n",
      " [  1.93e-02   1.60e-01   2.58e-01  -5.33e-02   3.81e-02   7.75e-02\n",
      "    2.89e-01   9.65e-02  -2.28e-01   1.77e-01  -9.43e-02  -3.82e-02\n",
      "   -1.55e-01  -1.15e-01  -1.54e-01   2.08e-01  -1.12e-01  -6.05e-01\n",
      "   -2.79e-01  -1.08e-01  -8.57e-02   1.11e-01   1.72e-01  -1.01e-01\n",
      "    1.30e-01  -2.57e-01   8.36e-03  -6.12e-02   8.80e-02  -1.35e-01\n",
      "   -1.42e-01  -1.43e-01   3.44e-01   4.38e-01  -1.61e-01  -3.90e-02\n",
      "   -1.63e-01  -1.93e-01  -3.25e-03   3.62e-02]\n",
      " [  1.06e-01  -3.54e-01  -1.67e-01  -2.48e-01   3.01e-01   1.94e-01\n",
      "   -4.91e-01  -8.04e-02   3.21e-01  -3.81e-01  -1.42e-01  -1.35e-01\n",
      "    2.42e-01   1.15e-01   4.87e-03   6.63e-02  -8.68e-02  -1.72e-01\n",
      "   -1.19e-02  -2.54e-01  -1.31e-01   1.41e-01   1.71e-01  -8.89e-02\n",
      "   -6.46e-02  -1.32e-01  -1.01e-01   9.31e-02   2.40e-02  -5.53e-03\n",
      "   -3.32e-02   1.73e-01   2.54e-01  -2.23e-01   4.21e-01  -1.33e-02\n",
      "    1.73e-01  -2.21e-01  -2.06e-05  -1.18e-01]\n",
      " [  1.84e-01   2.12e-01   2.02e-03  -2.46e-02  -8.05e-02   3.67e-01\n",
      "   -1.30e-01   1.43e-02   1.03e-01   1.96e-01   2.60e-01  -2.75e-01\n",
      "    2.98e-01  -3.74e-01   3.73e-02   7.37e-02   5.61e-02  -1.81e-01\n",
      "    2.39e-01   1.79e-01  -1.37e-01   3.55e-02  -1.60e-02   1.56e-02\n",
      "    4.45e-02  -9.94e-02  -1.19e-01   2.67e-01   4.81e-02   3.46e-03\n",
      "    3.79e-01  -9.05e-03   2.65e-01  -7.44e-03   2.67e-01   5.21e-02\n",
      "   -4.33e-02  -1.07e-01   1.43e-01  -3.58e-03]\n",
      " [  9.79e-02  -2.01e-01   1.36e-01  -5.92e-02  -2.33e-01  -2.00e-01\n",
      "    5.19e-02   5.15e-02  -1.18e-01  -4.01e-02   1.80e-01  -1.59e-02\n",
      "    6.71e-02   1.60e-01   3.70e-01   2.39e-01  -1.86e-01   5.48e-02\n",
      "   -2.72e-02  -1.33e-01  -2.47e-01   1.15e-01  -4.35e-03  -1.89e-01\n",
      "   -6.15e-02   1.10e-01  -1.25e-01  -5.15e-02  -1.28e-02   1.33e-01\n",
      "    9.75e-02  -6.93e-02   9.79e-02   1.73e-01   5.05e-01   3.11e-01\n",
      "   -5.96e-02   8.44e-02   1.21e-01  -1.27e-02]\n",
      " [  5.06e-01  -1.51e-01   5.29e-02   1.91e-01   1.06e-01   3.30e-01\n",
      "   -4.00e-01  -4.47e-02   2.27e-02  -2.61e-01   4.67e-01  -1.89e-02\n",
      "    7.49e-02   1.73e-01   2.84e-01   1.62e-02  -7.27e-02  -5.58e-03\n",
      "    2.29e-01  -6.57e-03  -8.67e-02  -9.08e-02   1.59e-01   1.70e-02\n",
      "   -2.43e-01  -4.21e-01  -2.33e-02  -4.85e-02  -3.11e-02  -1.82e-02\n",
      "    2.53e-01   3.20e-01   4.15e-04  -3.33e-01   2.38e-01   7.60e-02\n",
      "    9.22e-03   2.03e-01   3.98e-01  -1.14e-01]]\n",
      "Param <tf.Variable 'lstm_1/bias:0' shape=(40,) dtype=float32_ref>:\n",
      "40\n",
      "[ 0.02  0.09  0.07  0.06 -0.04  0.    0.19  0.12  0.02  0.13  0.99  1.02\n",
      "  1.05  0.97  0.96  1.    1.    1.03  1.01  1.08 -0.1  -0.08 -0.18 -0.15\n",
      " -0.08  0.19 -0.12 -0.11 -0.05 -0.15  0.02  0.1   0.12  0.23 -0.03  0.02\n",
      "  0.2   0.04 -0.08  0.19]\n",
      "Dense\n",
      "Param <tf.Variable 'dense_6/kernel:0' shape=(10, 1) dtype=float32_ref>:\n",
      "10\n",
      "[[-0.16]\n",
      " [-0.67]\n",
      " [-0.15]\n",
      " [-0.79]\n",
      " [-0.18]\n",
      " [ 0.35]\n",
      " [-0.7 ]\n",
      " [-0.42]\n",
      " [-0.21]\n",
      " [-0.37]]\n",
      "Param <tf.Variable 'dense_6/bias:0' shape=(1,) dtype=float32_ref>:\n",
      "1\n",
      "[ 0.13]\n"
     ]
    }
   ],
   "source": [
    "for layer in range(len(model.layers)):\n",
    "    print type(model.layers[layer]).__name__\n",
    "    layer_type = type(model.layers[layer]).__name__\n",
    "    for e in zip(model.layers[layer].trainable_weights, model.layers[layer].get_weights()):\n",
    "        if (1): #(layer_type == 'LSTM'):\n",
    "            print('Param %s:\\n%d\\n%s' % (e[0],len(e[1]),e[1]))"
   ]
  },
  {
   "cell_type": "code",
   "execution_count": 38,
   "metadata": {},
   "outputs": [
    {
     "name": "stdout",
     "output_type": "stream",
     "text": [
      "0 TimeDistributed\n",
      "1 Dropout\n",
      "2 TimeDistributed\n",
      "3 Dropout\n",
      "4 TimeDistributed\n",
      "5 Dropout\n",
      "6 TimeDistributed\n",
      "7 Dropout\n",
      "8 TimeDistributed\n",
      "9 Dropout\n",
      "10 LSTM\n",
      "11 Dense\n"
     ]
    }
   ],
   "source": [
    "for layer in range(len(model.layers)):\n",
    "    print layer, type(model.layers[layer]).__name__"
   ]
  },
  {
   "cell_type": "code",
   "execution_count": 39,
   "metadata": {
    "collapsed": true
   },
   "outputs": [],
   "source": [
    "weights = model.layers[10].get_weights()\n",
    "input_dim = weights[0].shape[1]/4 # 40 in case of hand keypoints\n",
    "\n",
    "W_i = weights[0][:,0:input_dim] # [0:40] has input (i)\n",
    "U_i = weights[1][:,0:input_dim]\n",
    "b_i = weights[2][0:input_dim]\n",
    "\n",
    "W_c = weights[0][:,input_dim:(2*input_dim)] # [40:80] has c\n",
    "U_c = weights[1][:,input_dim:(2*input_dim)]\n",
    "b_c = weights[2][input_dim:(2*input_dim)]\n",
    "\n",
    "W_f = weights[0][:,(2*input_dim):(3*input_dim)] # [80:120] has f\n",
    "U_f = weights[1][:,(2*input_dim):(3*input_dim)]\n",
    "b_f = weights[2][(2*input_dim):(3*input_dim)]\n",
    "\n",
    "W_o = weights[0][:,(3*input_dim):(4*input_dim)] # [80:120] has o\n",
    "U_o = weights[1][:,(3*input_dim):(4*input_dim)]\n",
    "b_o = weights[2][(3*input_dim):(4*input_dim)]"
   ]
  },
  {
   "cell_type": "code",
   "execution_count": 40,
   "metadata": {},
   "outputs": [
    {
     "data": {
      "text/plain": [
       "10"
      ]
     },
     "execution_count": 40,
     "metadata": {},
     "output_type": "execute_result"
    }
   ],
   "source": [
    "input_dim"
   ]
  },
  {
   "cell_type": "code",
   "execution_count": 41,
   "metadata": {},
   "outputs": [
    {
     "data": {
      "text/plain": [
       "((10, 10), (10, 10), (10, 10), (10, 10))"
      ]
     },
     "execution_count": 41,
     "metadata": {},
     "output_type": "execute_result"
    }
   ],
   "source": [
    "W_i.shape, W_c.shape, W_f.shape, W_o.shape"
   ]
  },
  {
   "cell_type": "code",
   "execution_count": 42,
   "metadata": {},
   "outputs": [
    {
     "data": {
      "text/plain": [
       "((10, 10), (10, 10), (10, 10), (10, 10))"
      ]
     },
     "execution_count": 42,
     "metadata": {},
     "output_type": "execute_result"
    }
   ],
   "source": [
    "U_i.shape, U_c.shape, U_f.shape, U_o.shape"
   ]
  },
  {
   "cell_type": "code",
   "execution_count": 43,
   "metadata": {},
   "outputs": [
    {
     "data": {
      "text/plain": [
       "((10,), (10,), (10,), (10,))"
      ]
     },
     "execution_count": 43,
     "metadata": {},
     "output_type": "execute_result"
    }
   ],
   "source": [
    "b_i.shape, b_c.shape, b_f.shape, b_o.shape"
   ]
  },
  {
   "cell_type": "code",
   "execution_count": 44,
   "metadata": {},
   "outputs": [
    {
     "data": {
      "text/plain": [
       "{'name': 'dropout_2', 'rate': 0.3, 'trainable': True}"
      ]
     },
     "execution_count": 44,
     "metadata": {},
     "output_type": "execute_result"
    }
   ],
   "source": [
    "model.layers[3].get_config()"
   ]
  },
  {
   "cell_type": "code",
   "execution_count": null,
   "metadata": {
    "collapsed": true
   },
   "outputs": [],
   "source": []
  },
  {
   "cell_type": "code",
   "execution_count": null,
   "metadata": {
    "collapsed": true
   },
   "outputs": [],
   "source": []
  }
 ],
 "metadata": {
  "kernelspec": {
   "display_name": "Python 2",
   "language": "python",
   "name": "python2"
  },
  "language_info": {
   "codemirror_mode": {
    "name": "ipython",
    "version": 2
   },
   "file_extension": ".py",
   "mimetype": "text/x-python",
   "name": "python",
   "nbconvert_exporter": "python",
   "pygments_lexer": "ipython2",
   "version": "2.7.12"
  }
 },
 "nbformat": 4,
 "nbformat_minor": 2
}
